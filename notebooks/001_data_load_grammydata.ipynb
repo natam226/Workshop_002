{
 "cells": [
  {
   "cell_type": "markdown",
   "metadata": {},
   "source": [
    "# 001 Database connection and grammy's data loading"
   ]
  },
  {
   "cell_type": "code",
   "execution_count": 1,
   "metadata": {},
   "outputs": [],
   "source": [
    "import os\n",
    "import json\n",
    "import pandas as pd\n",
    "from sqlalchemy import create_engine, text\n",
    "from sqlalchemy.exc import OperationalError"
   ]
  },
  {
   "cell_type": "code",
   "execution_count": 2,
   "metadata": {},
   "outputs": [
    {
     "name": "stdout",
     "output_type": "stream",
     "text": [
      "c:\\Users\\natym\\Desktop\n"
     ]
    }
   ],
   "source": [
    "try:\n",
    "    os.chdir(\"../../Workshop_002\")\n",
    "except FileNotFoundError:\n",
    "    print(\"\"\"\n",
    "        FileNotFoundError - The directory may not exist or you are not located in the specified path.\n",
    "        \"\"\")\n",
    "os.chdir(\"..\")\n",
    "print(os.getcwd())"
   ]
  },
  {
   "cell_type": "code",
   "execution_count": 3,
   "metadata": {},
   "outputs": [],
   "source": [
    "with open(\"Workshop_002/credentials.json\", \"r\", encoding = \"utf-8\") as f:\n",
    "    credentials = json.load(f)\n",
    "\n",
    "db_host = credentials[\"db_host\"]\n",
    "db_name = credentials[\"db_name\"]\n",
    "db_user = credentials[\"db_user\"]\n",
    "db_password = credentials[\"db_password\"]\n",
    "\n",
    "db_engine = create_engine(f\"postgresql://{db_user}:{db_password}@{db_host}:5432/{db_name}\")"
   ]
  },
  {
   "cell_type": "code",
   "execution_count": 4,
   "metadata": {},
   "outputs": [
    {
     "name": "stdout",
     "output_type": "stream",
     "text": [
      "Database already exists\n"
     ]
    }
   ],
   "source": [
    "try:\n",
    "    with db_engine.connect() as connection:\n",
    "        result = connection.execute(\n",
    "            text(\"SELECT 1 FROM pg_database WHERE datname = :dbname\"),\n",
    "            {\"dbname\": db_name}\n",
    "        )\n",
    "        exists = result.fetchone()\n",
    "\n",
    "    if not exists:\n",
    "        with db_engine.connect().execution_options(isolation_level=\"AUTOCOMMIT\") as connection:\n",
    "            connection.execute(text(f\"CREATE DATABASE {db_name}\"))\n",
    "            print(\"Database created successfully\")\n",
    "    else:\n",
    "        print(\"Database already exists\")\n",
    "\n",
    "except OperationalError as e:\n",
    "    print(f\"PostgreSQL connection failed: {e}\")"
   ]
  },
  {
   "cell_type": "code",
   "execution_count": 5,
   "metadata": {},
   "outputs": [],
   "source": [
    "engine = create_engine(f\"postgresql://{db_user}:{db_password}@{db_host}:5432/{db_name}\")"
   ]
  },
  {
   "cell_type": "code",
   "execution_count": 6,
   "metadata": {},
   "outputs": [
    {
     "name": "stdout",
     "output_type": "stream",
     "text": [
      "Datos insertados correctamente en la tabla 'grammys_raw_data'.\n"
     ]
    }
   ],
   "source": [
    "grammys_raw_data = pd.read_csv(\"Workshop_002/data/the_grammy_awards.csv\", sep=',')\n",
    "\n",
    "try:\n",
    "    grammys_raw_data.to_sql('grammys_raw_data', engine, if_exists='replace', index=False)\n",
    "    print(\"Datos insertados correctamente en la tabla 'grammys_raw_data'.\")\n",
    "except Exception as e:\n",
    "    print(f\"Error al insertar datos: {e}\")"
   ]
  }
 ],
 "metadata": {
  "kernelspec": {
   "display_name": "venv",
   "language": "python",
   "name": "python3"
  },
  "language_info": {
   "codemirror_mode": {
    "name": "ipython",
    "version": 3
   },
   "file_extension": ".py",
   "mimetype": "text/x-python",
   "name": "python",
   "nbconvert_exporter": "python",
   "pygments_lexer": "ipython3",
   "version": "3.11.9"
  }
 },
 "nbformat": 4,
 "nbformat_minor": 2
}
