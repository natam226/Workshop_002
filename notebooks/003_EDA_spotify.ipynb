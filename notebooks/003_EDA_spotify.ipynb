{
 "cells": [
  {
   "cell_type": "markdown",
   "id": "34f95bef",
   "metadata": {},
   "source": [
    "# **_0033 - Exploratory Data Analysis of Spotify Data_**"
   ]
  },
  {
   "cell_type": "markdown",
   "id": "44610465",
   "metadata": {},
   "source": [
    "## **_Data Loading_**"
   ]
  },
  {
   "cell_type": "code",
   "execution_count": 1,
   "id": "36e43cf0",
   "metadata": {},
   "outputs": [],
   "source": [
    "import pandas as pd\n",
    "import os\n",
    "import matplotlib.pyplot as plt\n",
    "import seaborn as sns\n",
    "from itertools import chain"
   ]
  },
  {
   "cell_type": "code",
   "execution_count": 2,
   "id": "d9d6c75a",
   "metadata": {},
   "outputs": [
    {
     "name": "stdout",
     "output_type": "stream",
     "text": [
      "c:\\Users\\natym\\Desktop\n"
     ]
    }
   ],
   "source": [
    "try:\n",
    "    os.chdir(\"../../Workshop_002\")\n",
    "except FileNotFoundError:\n",
    "    print(\"\"\"\n",
    "        FileNotFoundError - Puede que el directorio no exista o no estas ubicad@ en la ruta especificada.\n",
    "        \"\"\")\n",
    "os.chdir(\"..\")\n",
    "print(os.getcwd())"
   ]
  },
  {
   "cell_type": "code",
   "execution_count": 3,
   "id": "52be5a94",
   "metadata": {},
   "outputs": [],
   "source": [
    "spotify_df = pd.read_csv(\"Workshop_002/data/spotify_dataset.csv\")"
   ]
  },
  {
   "cell_type": "code",
   "execution_count": 4,
   "id": "f471d5e3",
   "metadata": {},
   "outputs": [
    {
     "data": {
      "text/html": [
       "<div>\n",
       "<style scoped>\n",
       "    .dataframe tbody tr th:only-of-type {\n",
       "        vertical-align: middle;\n",
       "    }\n",
       "\n",
       "    .dataframe tbody tr th {\n",
       "        vertical-align: top;\n",
       "    }\n",
       "\n",
       "    .dataframe thead th {\n",
       "        text-align: right;\n",
       "    }\n",
       "</style>\n",
       "<table border=\"1\" class=\"dataframe\">\n",
       "  <thead>\n",
       "    <tr style=\"text-align: right;\">\n",
       "      <th></th>\n",
       "      <th>Unnamed: 0</th>\n",
       "      <th>track_id</th>\n",
       "      <th>artists</th>\n",
       "      <th>album_name</th>\n",
       "      <th>track_name</th>\n",
       "      <th>popularity</th>\n",
       "      <th>duration_ms</th>\n",
       "      <th>explicit</th>\n",
       "      <th>danceability</th>\n",
       "      <th>energy</th>\n",
       "      <th>...</th>\n",
       "      <th>loudness</th>\n",
       "      <th>mode</th>\n",
       "      <th>speechiness</th>\n",
       "      <th>acousticness</th>\n",
       "      <th>instrumentalness</th>\n",
       "      <th>liveness</th>\n",
       "      <th>valence</th>\n",
       "      <th>tempo</th>\n",
       "      <th>time_signature</th>\n",
       "      <th>track_genre</th>\n",
       "    </tr>\n",
       "  </thead>\n",
       "  <tbody>\n",
       "    <tr>\n",
       "      <th>0</th>\n",
       "      <td>0</td>\n",
       "      <td>5SuOikwiRyPMVoIQDJUgSV</td>\n",
       "      <td>Gen Hoshino</td>\n",
       "      <td>Comedy</td>\n",
       "      <td>Comedy</td>\n",
       "      <td>73</td>\n",
       "      <td>230666</td>\n",
       "      <td>False</td>\n",
       "      <td>0.676</td>\n",
       "      <td>0.4610</td>\n",
       "      <td>...</td>\n",
       "      <td>-6.746</td>\n",
       "      <td>0</td>\n",
       "      <td>0.1430</td>\n",
       "      <td>0.0322</td>\n",
       "      <td>0.000001</td>\n",
       "      <td>0.3580</td>\n",
       "      <td>0.715</td>\n",
       "      <td>87.917</td>\n",
       "      <td>4</td>\n",
       "      <td>acoustic</td>\n",
       "    </tr>\n",
       "    <tr>\n",
       "      <th>1</th>\n",
       "      <td>1</td>\n",
       "      <td>4qPNDBW1i3p13qLCt0Ki3A</td>\n",
       "      <td>Ben Woodward</td>\n",
       "      <td>Ghost (Acoustic)</td>\n",
       "      <td>Ghost - Acoustic</td>\n",
       "      <td>55</td>\n",
       "      <td>149610</td>\n",
       "      <td>False</td>\n",
       "      <td>0.420</td>\n",
       "      <td>0.1660</td>\n",
       "      <td>...</td>\n",
       "      <td>-17.235</td>\n",
       "      <td>1</td>\n",
       "      <td>0.0763</td>\n",
       "      <td>0.9240</td>\n",
       "      <td>0.000006</td>\n",
       "      <td>0.1010</td>\n",
       "      <td>0.267</td>\n",
       "      <td>77.489</td>\n",
       "      <td>4</td>\n",
       "      <td>acoustic</td>\n",
       "    </tr>\n",
       "    <tr>\n",
       "      <th>2</th>\n",
       "      <td>2</td>\n",
       "      <td>1iJBSr7s7jYXzM8EGcbK5b</td>\n",
       "      <td>Ingrid Michaelson;ZAYN</td>\n",
       "      <td>To Begin Again</td>\n",
       "      <td>To Begin Again</td>\n",
       "      <td>57</td>\n",
       "      <td>210826</td>\n",
       "      <td>False</td>\n",
       "      <td>0.438</td>\n",
       "      <td>0.3590</td>\n",
       "      <td>...</td>\n",
       "      <td>-9.734</td>\n",
       "      <td>1</td>\n",
       "      <td>0.0557</td>\n",
       "      <td>0.2100</td>\n",
       "      <td>0.000000</td>\n",
       "      <td>0.1170</td>\n",
       "      <td>0.120</td>\n",
       "      <td>76.332</td>\n",
       "      <td>4</td>\n",
       "      <td>acoustic</td>\n",
       "    </tr>\n",
       "    <tr>\n",
       "      <th>3</th>\n",
       "      <td>3</td>\n",
       "      <td>6lfxq3CG4xtTiEg7opyCyx</td>\n",
       "      <td>Kina Grannis</td>\n",
       "      <td>Crazy Rich Asians (Original Motion Picture Sou...</td>\n",
       "      <td>Can't Help Falling In Love</td>\n",
       "      <td>71</td>\n",
       "      <td>201933</td>\n",
       "      <td>False</td>\n",
       "      <td>0.266</td>\n",
       "      <td>0.0596</td>\n",
       "      <td>...</td>\n",
       "      <td>-18.515</td>\n",
       "      <td>1</td>\n",
       "      <td>0.0363</td>\n",
       "      <td>0.9050</td>\n",
       "      <td>0.000071</td>\n",
       "      <td>0.1320</td>\n",
       "      <td>0.143</td>\n",
       "      <td>181.740</td>\n",
       "      <td>3</td>\n",
       "      <td>acoustic</td>\n",
       "    </tr>\n",
       "    <tr>\n",
       "      <th>4</th>\n",
       "      <td>4</td>\n",
       "      <td>5vjLSffimiIP26QG5WcN2K</td>\n",
       "      <td>Chord Overstreet</td>\n",
       "      <td>Hold On</td>\n",
       "      <td>Hold On</td>\n",
       "      <td>82</td>\n",
       "      <td>198853</td>\n",
       "      <td>False</td>\n",
       "      <td>0.618</td>\n",
       "      <td>0.4430</td>\n",
       "      <td>...</td>\n",
       "      <td>-9.681</td>\n",
       "      <td>1</td>\n",
       "      <td>0.0526</td>\n",
       "      <td>0.4690</td>\n",
       "      <td>0.000000</td>\n",
       "      <td>0.0829</td>\n",
       "      <td>0.167</td>\n",
       "      <td>119.949</td>\n",
       "      <td>4</td>\n",
       "      <td>acoustic</td>\n",
       "    </tr>\n",
       "  </tbody>\n",
       "</table>\n",
       "<p>5 rows × 21 columns</p>\n",
       "</div>"
      ],
      "text/plain": [
       "   Unnamed: 0                track_id                 artists  \\\n",
       "0           0  5SuOikwiRyPMVoIQDJUgSV             Gen Hoshino   \n",
       "1           1  4qPNDBW1i3p13qLCt0Ki3A            Ben Woodward   \n",
       "2           2  1iJBSr7s7jYXzM8EGcbK5b  Ingrid Michaelson;ZAYN   \n",
       "3           3  6lfxq3CG4xtTiEg7opyCyx            Kina Grannis   \n",
       "4           4  5vjLSffimiIP26QG5WcN2K        Chord Overstreet   \n",
       "\n",
       "                                          album_name  \\\n",
       "0                                             Comedy   \n",
       "1                                   Ghost (Acoustic)   \n",
       "2                                     To Begin Again   \n",
       "3  Crazy Rich Asians (Original Motion Picture Sou...   \n",
       "4                                            Hold On   \n",
       "\n",
       "                   track_name  popularity  duration_ms  explicit  \\\n",
       "0                      Comedy          73       230666     False   \n",
       "1            Ghost - Acoustic          55       149610     False   \n",
       "2              To Begin Again          57       210826     False   \n",
       "3  Can't Help Falling In Love          71       201933     False   \n",
       "4                     Hold On          82       198853     False   \n",
       "\n",
       "   danceability  energy  ...  loudness  mode  speechiness  acousticness  \\\n",
       "0         0.676  0.4610  ...    -6.746     0       0.1430        0.0322   \n",
       "1         0.420  0.1660  ...   -17.235     1       0.0763        0.9240   \n",
       "2         0.438  0.3590  ...    -9.734     1       0.0557        0.2100   \n",
       "3         0.266  0.0596  ...   -18.515     1       0.0363        0.9050   \n",
       "4         0.618  0.4430  ...    -9.681     1       0.0526        0.4690   \n",
       "\n",
       "   instrumentalness  liveness  valence    tempo  time_signature  track_genre  \n",
       "0          0.000001    0.3580    0.715   87.917               4     acoustic  \n",
       "1          0.000006    0.1010    0.267   77.489               4     acoustic  \n",
       "2          0.000000    0.1170    0.120   76.332               4     acoustic  \n",
       "3          0.000071    0.1320    0.143  181.740               3     acoustic  \n",
       "4          0.000000    0.0829    0.167  119.949               4     acoustic  \n",
       "\n",
       "[5 rows x 21 columns]"
      ]
     },
     "execution_count": 4,
     "metadata": {},
     "output_type": "execute_result"
    }
   ],
   "source": [
    "spotify_df.head()"
   ]
  },
  {
   "cell_type": "markdown",
   "id": "ac160700",
   "metadata": {},
   "source": [
    "## **_Dataset Information_**"
   ]
  },
  {
   "cell_type": "code",
   "execution_count": 5,
   "id": "740920e2",
   "metadata": {},
   "outputs": [
    {
     "data": {
      "text/plain": [
       "(114000, 21)"
      ]
     },
     "execution_count": 5,
     "metadata": {},
     "output_type": "execute_result"
    }
   ],
   "source": [
    "spotify_df.shape"
   ]
  },
  {
   "cell_type": "code",
   "execution_count": 6,
   "id": "c31c90d6",
   "metadata": {},
   "outputs": [
    {
     "name": "stdout",
     "output_type": "stream",
     "text": [
      "<class 'pandas.core.frame.DataFrame'>\n",
      "RangeIndex: 114000 entries, 0 to 113999\n",
      "Data columns (total 21 columns):\n",
      " #   Column            Non-Null Count   Dtype  \n",
      "---  ------            --------------   -----  \n",
      " 0   Unnamed: 0        114000 non-null  int64  \n",
      " 1   track_id          114000 non-null  object \n",
      " 2   artists           113999 non-null  object \n",
      " 3   album_name        113999 non-null  object \n",
      " 4   track_name        113999 non-null  object \n",
      " 5   popularity        114000 non-null  int64  \n",
      " 6   duration_ms       114000 non-null  int64  \n",
      " 7   explicit          114000 non-null  bool   \n",
      " 8   danceability      114000 non-null  float64\n",
      " 9   energy            114000 non-null  float64\n",
      " 10  key               114000 non-null  int64  \n",
      " 11  loudness          114000 non-null  float64\n",
      " 12  mode              114000 non-null  int64  \n",
      " 13  speechiness       114000 non-null  float64\n",
      " 14  acousticness      114000 non-null  float64\n",
      " 15  instrumentalness  114000 non-null  float64\n",
      " 16  liveness          114000 non-null  float64\n",
      " 17  valence           114000 non-null  float64\n",
      " 18  tempo             114000 non-null  float64\n",
      " 19  time_signature    114000 non-null  int64  \n",
      " 20  track_genre       114000 non-null  object \n",
      "dtypes: bool(1), float64(9), int64(6), object(5)\n",
      "memory usage: 17.5+ MB\n"
     ]
    }
   ],
   "source": [
    "spotify_df.info()"
   ]
  },
  {
   "cell_type": "code",
   "execution_count": 7,
   "id": "4c05b3bc",
   "metadata": {},
   "outputs": [
    {
     "data": {
      "text/html": [
       "<div>\n",
       "<style scoped>\n",
       "    .dataframe tbody tr th:only-of-type {\n",
       "        vertical-align: middle;\n",
       "    }\n",
       "\n",
       "    .dataframe tbody tr th {\n",
       "        vertical-align: top;\n",
       "    }\n",
       "\n",
       "    .dataframe thead th {\n",
       "        text-align: right;\n",
       "    }\n",
       "</style>\n",
       "<table border=\"1\" class=\"dataframe\">\n",
       "  <thead>\n",
       "    <tr style=\"text-align: right;\">\n",
       "      <th></th>\n",
       "      <th>Unnamed: 0</th>\n",
       "      <th>popularity</th>\n",
       "      <th>duration_ms</th>\n",
       "      <th>danceability</th>\n",
       "      <th>energy</th>\n",
       "      <th>key</th>\n",
       "      <th>loudness</th>\n",
       "      <th>mode</th>\n",
       "      <th>speechiness</th>\n",
       "      <th>acousticness</th>\n",
       "      <th>instrumentalness</th>\n",
       "      <th>liveness</th>\n",
       "      <th>valence</th>\n",
       "      <th>tempo</th>\n",
       "      <th>time_signature</th>\n",
       "    </tr>\n",
       "  </thead>\n",
       "  <tbody>\n",
       "    <tr>\n",
       "      <th>count</th>\n",
       "      <td>114000.000000</td>\n",
       "      <td>114000.000000</td>\n",
       "      <td>1.140000e+05</td>\n",
       "      <td>114000.000000</td>\n",
       "      <td>114000.000000</td>\n",
       "      <td>114000.000000</td>\n",
       "      <td>114000.000000</td>\n",
       "      <td>114000.000000</td>\n",
       "      <td>114000.000000</td>\n",
       "      <td>114000.000000</td>\n",
       "      <td>114000.000000</td>\n",
       "      <td>114000.000000</td>\n",
       "      <td>114000.000000</td>\n",
       "      <td>114000.000000</td>\n",
       "      <td>114000.000000</td>\n",
       "    </tr>\n",
       "    <tr>\n",
       "      <th>mean</th>\n",
       "      <td>56999.500000</td>\n",
       "      <td>33.238535</td>\n",
       "      <td>2.280292e+05</td>\n",
       "      <td>0.566800</td>\n",
       "      <td>0.641383</td>\n",
       "      <td>5.309140</td>\n",
       "      <td>-8.258960</td>\n",
       "      <td>0.637553</td>\n",
       "      <td>0.084652</td>\n",
       "      <td>0.314910</td>\n",
       "      <td>0.156050</td>\n",
       "      <td>0.213553</td>\n",
       "      <td>0.474068</td>\n",
       "      <td>122.147837</td>\n",
       "      <td>3.904035</td>\n",
       "    </tr>\n",
       "    <tr>\n",
       "      <th>std</th>\n",
       "      <td>32909.109681</td>\n",
       "      <td>22.305078</td>\n",
       "      <td>1.072977e+05</td>\n",
       "      <td>0.173542</td>\n",
       "      <td>0.251529</td>\n",
       "      <td>3.559987</td>\n",
       "      <td>5.029337</td>\n",
       "      <td>0.480709</td>\n",
       "      <td>0.105732</td>\n",
       "      <td>0.332523</td>\n",
       "      <td>0.309555</td>\n",
       "      <td>0.190378</td>\n",
       "      <td>0.259261</td>\n",
       "      <td>29.978197</td>\n",
       "      <td>0.432621</td>\n",
       "    </tr>\n",
       "    <tr>\n",
       "      <th>min</th>\n",
       "      <td>0.000000</td>\n",
       "      <td>0.000000</td>\n",
       "      <td>0.000000e+00</td>\n",
       "      <td>0.000000</td>\n",
       "      <td>0.000000</td>\n",
       "      <td>0.000000</td>\n",
       "      <td>-49.531000</td>\n",
       "      <td>0.000000</td>\n",
       "      <td>0.000000</td>\n",
       "      <td>0.000000</td>\n",
       "      <td>0.000000</td>\n",
       "      <td>0.000000</td>\n",
       "      <td>0.000000</td>\n",
       "      <td>0.000000</td>\n",
       "      <td>0.000000</td>\n",
       "    </tr>\n",
       "    <tr>\n",
       "      <th>25%</th>\n",
       "      <td>28499.750000</td>\n",
       "      <td>17.000000</td>\n",
       "      <td>1.740660e+05</td>\n",
       "      <td>0.456000</td>\n",
       "      <td>0.472000</td>\n",
       "      <td>2.000000</td>\n",
       "      <td>-10.013000</td>\n",
       "      <td>0.000000</td>\n",
       "      <td>0.035900</td>\n",
       "      <td>0.016900</td>\n",
       "      <td>0.000000</td>\n",
       "      <td>0.098000</td>\n",
       "      <td>0.260000</td>\n",
       "      <td>99.218750</td>\n",
       "      <td>4.000000</td>\n",
       "    </tr>\n",
       "    <tr>\n",
       "      <th>50%</th>\n",
       "      <td>56999.500000</td>\n",
       "      <td>35.000000</td>\n",
       "      <td>2.129060e+05</td>\n",
       "      <td>0.580000</td>\n",
       "      <td>0.685000</td>\n",
       "      <td>5.000000</td>\n",
       "      <td>-7.004000</td>\n",
       "      <td>1.000000</td>\n",
       "      <td>0.048900</td>\n",
       "      <td>0.169000</td>\n",
       "      <td>0.000042</td>\n",
       "      <td>0.132000</td>\n",
       "      <td>0.464000</td>\n",
       "      <td>122.017000</td>\n",
       "      <td>4.000000</td>\n",
       "    </tr>\n",
       "    <tr>\n",
       "      <th>75%</th>\n",
       "      <td>85499.250000</td>\n",
       "      <td>50.000000</td>\n",
       "      <td>2.615060e+05</td>\n",
       "      <td>0.695000</td>\n",
       "      <td>0.854000</td>\n",
       "      <td>8.000000</td>\n",
       "      <td>-5.003000</td>\n",
       "      <td>1.000000</td>\n",
       "      <td>0.084500</td>\n",
       "      <td>0.598000</td>\n",
       "      <td>0.049000</td>\n",
       "      <td>0.273000</td>\n",
       "      <td>0.683000</td>\n",
       "      <td>140.071000</td>\n",
       "      <td>4.000000</td>\n",
       "    </tr>\n",
       "    <tr>\n",
       "      <th>max</th>\n",
       "      <td>113999.000000</td>\n",
       "      <td>100.000000</td>\n",
       "      <td>5.237295e+06</td>\n",
       "      <td>0.985000</td>\n",
       "      <td>1.000000</td>\n",
       "      <td>11.000000</td>\n",
       "      <td>4.532000</td>\n",
       "      <td>1.000000</td>\n",
       "      <td>0.965000</td>\n",
       "      <td>0.996000</td>\n",
       "      <td>1.000000</td>\n",
       "      <td>1.000000</td>\n",
       "      <td>0.995000</td>\n",
       "      <td>243.372000</td>\n",
       "      <td>5.000000</td>\n",
       "    </tr>\n",
       "  </tbody>\n",
       "</table>\n",
       "</div>"
      ],
      "text/plain": [
       "          Unnamed: 0     popularity   duration_ms   danceability  \\\n",
       "count  114000.000000  114000.000000  1.140000e+05  114000.000000   \n",
       "mean    56999.500000      33.238535  2.280292e+05       0.566800   \n",
       "std     32909.109681      22.305078  1.072977e+05       0.173542   \n",
       "min         0.000000       0.000000  0.000000e+00       0.000000   \n",
       "25%     28499.750000      17.000000  1.740660e+05       0.456000   \n",
       "50%     56999.500000      35.000000  2.129060e+05       0.580000   \n",
       "75%     85499.250000      50.000000  2.615060e+05       0.695000   \n",
       "max    113999.000000     100.000000  5.237295e+06       0.985000   \n",
       "\n",
       "              energy            key       loudness           mode  \\\n",
       "count  114000.000000  114000.000000  114000.000000  114000.000000   \n",
       "mean        0.641383       5.309140      -8.258960       0.637553   \n",
       "std         0.251529       3.559987       5.029337       0.480709   \n",
       "min         0.000000       0.000000     -49.531000       0.000000   \n",
       "25%         0.472000       2.000000     -10.013000       0.000000   \n",
       "50%         0.685000       5.000000      -7.004000       1.000000   \n",
       "75%         0.854000       8.000000      -5.003000       1.000000   \n",
       "max         1.000000      11.000000       4.532000       1.000000   \n",
       "\n",
       "         speechiness   acousticness  instrumentalness       liveness  \\\n",
       "count  114000.000000  114000.000000     114000.000000  114000.000000   \n",
       "mean        0.084652       0.314910          0.156050       0.213553   \n",
       "std         0.105732       0.332523          0.309555       0.190378   \n",
       "min         0.000000       0.000000          0.000000       0.000000   \n",
       "25%         0.035900       0.016900          0.000000       0.098000   \n",
       "50%         0.048900       0.169000          0.000042       0.132000   \n",
       "75%         0.084500       0.598000          0.049000       0.273000   \n",
       "max         0.965000       0.996000          1.000000       1.000000   \n",
       "\n",
       "             valence          tempo  time_signature  \n",
       "count  114000.000000  114000.000000   114000.000000  \n",
       "mean        0.474068     122.147837        3.904035  \n",
       "std         0.259261      29.978197        0.432621  \n",
       "min         0.000000       0.000000        0.000000  \n",
       "25%         0.260000      99.218750        4.000000  \n",
       "50%         0.464000     122.017000        4.000000  \n",
       "75%         0.683000     140.071000        4.000000  \n",
       "max         0.995000     243.372000        5.000000  "
      ]
     },
     "execution_count": 7,
     "metadata": {},
     "output_type": "execute_result"
    }
   ],
   "source": [
    "spotify_df.describe()"
   ]
  },
  {
   "cell_type": "code",
   "execution_count": 8,
   "id": "78daa68a",
   "metadata": {},
   "outputs": [
    {
     "data": {
      "text/html": [
       "<div>\n",
       "<style scoped>\n",
       "    .dataframe tbody tr th:only-of-type {\n",
       "        vertical-align: middle;\n",
       "    }\n",
       "\n",
       "    .dataframe tbody tr th {\n",
       "        vertical-align: top;\n",
       "    }\n",
       "\n",
       "    .dataframe thead th {\n",
       "        text-align: right;\n",
       "    }\n",
       "</style>\n",
       "<table border=\"1\" class=\"dataframe\">\n",
       "  <thead>\n",
       "    <tr style=\"text-align: right;\">\n",
       "      <th></th>\n",
       "      <th>track_id</th>\n",
       "      <th>artists</th>\n",
       "      <th>album_name</th>\n",
       "      <th>track_name</th>\n",
       "      <th>track_genre</th>\n",
       "    </tr>\n",
       "  </thead>\n",
       "  <tbody>\n",
       "    <tr>\n",
       "      <th>count</th>\n",
       "      <td>114000</td>\n",
       "      <td>113999</td>\n",
       "      <td>113999</td>\n",
       "      <td>113999</td>\n",
       "      <td>114000</td>\n",
       "    </tr>\n",
       "    <tr>\n",
       "      <th>unique</th>\n",
       "      <td>89741</td>\n",
       "      <td>31437</td>\n",
       "      <td>46589</td>\n",
       "      <td>73608</td>\n",
       "      <td>114</td>\n",
       "    </tr>\n",
       "    <tr>\n",
       "      <th>top</th>\n",
       "      <td>6S3JlDAGk3uu3NtZbPnuhS</td>\n",
       "      <td>The Beatles</td>\n",
       "      <td>Alternative Christmas 2022</td>\n",
       "      <td>Run Rudolph Run</td>\n",
       "      <td>acoustic</td>\n",
       "    </tr>\n",
       "    <tr>\n",
       "      <th>freq</th>\n",
       "      <td>9</td>\n",
       "      <td>279</td>\n",
       "      <td>195</td>\n",
       "      <td>151</td>\n",
       "      <td>1000</td>\n",
       "    </tr>\n",
       "  </tbody>\n",
       "</table>\n",
       "</div>"
      ],
      "text/plain": [
       "                      track_id      artists                  album_name  \\\n",
       "count                   114000       113999                      113999   \n",
       "unique                   89741        31437                       46589   \n",
       "top     6S3JlDAGk3uu3NtZbPnuhS  The Beatles  Alternative Christmas 2022   \n",
       "freq                         9          279                         195   \n",
       "\n",
       "             track_name track_genre  \n",
       "count            113999      114000  \n",
       "unique            73608         114  \n",
       "top     Run Rudolph Run    acoustic  \n",
       "freq                151        1000  "
      ]
     },
     "execution_count": 8,
     "metadata": {},
     "output_type": "execute_result"
    }
   ],
   "source": [
    "spotify_df.describe(include=\"object\")"
   ]
  },
  {
   "cell_type": "markdown",
   "id": "dddd5411",
   "metadata": {},
   "source": [
    "## **_Data Cleaning_**"
   ]
  },
  {
   "cell_type": "markdown",
   "id": "23093ccd",
   "metadata": {},
   "source": [
    "### **_Removal of `Unnamed` column_**"
   ]
  },
  {
   "cell_type": "markdown",
   "id": "7aaa8608",
   "metadata": {},
   "source": [
    "This column is removed beacase it doesn't have relevance in the dataset nature. "
   ]
  },
  {
   "cell_type": "code",
   "execution_count": 9,
   "id": "3ac3c0f1",
   "metadata": {},
   "outputs": [
    {
     "data": {
      "text/html": [
       "<div>\n",
       "<style scoped>\n",
       "    .dataframe tbody tr th:only-of-type {\n",
       "        vertical-align: middle;\n",
       "    }\n",
       "\n",
       "    .dataframe tbody tr th {\n",
       "        vertical-align: top;\n",
       "    }\n",
       "\n",
       "    .dataframe thead th {\n",
       "        text-align: right;\n",
       "    }\n",
       "</style>\n",
       "<table border=\"1\" class=\"dataframe\">\n",
       "  <thead>\n",
       "    <tr style=\"text-align: right;\">\n",
       "      <th></th>\n",
       "      <th>track_id</th>\n",
       "      <th>artists</th>\n",
       "      <th>album_name</th>\n",
       "      <th>track_name</th>\n",
       "      <th>popularity</th>\n",
       "      <th>duration_ms</th>\n",
       "      <th>explicit</th>\n",
       "      <th>danceability</th>\n",
       "      <th>energy</th>\n",
       "      <th>key</th>\n",
       "      <th>loudness</th>\n",
       "      <th>mode</th>\n",
       "      <th>speechiness</th>\n",
       "      <th>acousticness</th>\n",
       "      <th>instrumentalness</th>\n",
       "      <th>liveness</th>\n",
       "      <th>valence</th>\n",
       "      <th>tempo</th>\n",
       "      <th>time_signature</th>\n",
       "      <th>track_genre</th>\n",
       "    </tr>\n",
       "  </thead>\n",
       "  <tbody>\n",
       "    <tr>\n",
       "      <th>0</th>\n",
       "      <td>5SuOikwiRyPMVoIQDJUgSV</td>\n",
       "      <td>Gen Hoshino</td>\n",
       "      <td>Comedy</td>\n",
       "      <td>Comedy</td>\n",
       "      <td>73</td>\n",
       "      <td>230666</td>\n",
       "      <td>False</td>\n",
       "      <td>0.676</td>\n",
       "      <td>0.4610</td>\n",
       "      <td>1</td>\n",
       "      <td>-6.746</td>\n",
       "      <td>0</td>\n",
       "      <td>0.1430</td>\n",
       "      <td>0.0322</td>\n",
       "      <td>0.000001</td>\n",
       "      <td>0.3580</td>\n",
       "      <td>0.715</td>\n",
       "      <td>87.917</td>\n",
       "      <td>4</td>\n",
       "      <td>acoustic</td>\n",
       "    </tr>\n",
       "    <tr>\n",
       "      <th>1</th>\n",
       "      <td>4qPNDBW1i3p13qLCt0Ki3A</td>\n",
       "      <td>Ben Woodward</td>\n",
       "      <td>Ghost (Acoustic)</td>\n",
       "      <td>Ghost - Acoustic</td>\n",
       "      <td>55</td>\n",
       "      <td>149610</td>\n",
       "      <td>False</td>\n",
       "      <td>0.420</td>\n",
       "      <td>0.1660</td>\n",
       "      <td>1</td>\n",
       "      <td>-17.235</td>\n",
       "      <td>1</td>\n",
       "      <td>0.0763</td>\n",
       "      <td>0.9240</td>\n",
       "      <td>0.000006</td>\n",
       "      <td>0.1010</td>\n",
       "      <td>0.267</td>\n",
       "      <td>77.489</td>\n",
       "      <td>4</td>\n",
       "      <td>acoustic</td>\n",
       "    </tr>\n",
       "    <tr>\n",
       "      <th>2</th>\n",
       "      <td>1iJBSr7s7jYXzM8EGcbK5b</td>\n",
       "      <td>Ingrid Michaelson;ZAYN</td>\n",
       "      <td>To Begin Again</td>\n",
       "      <td>To Begin Again</td>\n",
       "      <td>57</td>\n",
       "      <td>210826</td>\n",
       "      <td>False</td>\n",
       "      <td>0.438</td>\n",
       "      <td>0.3590</td>\n",
       "      <td>0</td>\n",
       "      <td>-9.734</td>\n",
       "      <td>1</td>\n",
       "      <td>0.0557</td>\n",
       "      <td>0.2100</td>\n",
       "      <td>0.000000</td>\n",
       "      <td>0.1170</td>\n",
       "      <td>0.120</td>\n",
       "      <td>76.332</td>\n",
       "      <td>4</td>\n",
       "      <td>acoustic</td>\n",
       "    </tr>\n",
       "    <tr>\n",
       "      <th>3</th>\n",
       "      <td>6lfxq3CG4xtTiEg7opyCyx</td>\n",
       "      <td>Kina Grannis</td>\n",
       "      <td>Crazy Rich Asians (Original Motion Picture Sou...</td>\n",
       "      <td>Can't Help Falling In Love</td>\n",
       "      <td>71</td>\n",
       "      <td>201933</td>\n",
       "      <td>False</td>\n",
       "      <td>0.266</td>\n",
       "      <td>0.0596</td>\n",
       "      <td>0</td>\n",
       "      <td>-18.515</td>\n",
       "      <td>1</td>\n",
       "      <td>0.0363</td>\n",
       "      <td>0.9050</td>\n",
       "      <td>0.000071</td>\n",
       "      <td>0.1320</td>\n",
       "      <td>0.143</td>\n",
       "      <td>181.740</td>\n",
       "      <td>3</td>\n",
       "      <td>acoustic</td>\n",
       "    </tr>\n",
       "    <tr>\n",
       "      <th>4</th>\n",
       "      <td>5vjLSffimiIP26QG5WcN2K</td>\n",
       "      <td>Chord Overstreet</td>\n",
       "      <td>Hold On</td>\n",
       "      <td>Hold On</td>\n",
       "      <td>82</td>\n",
       "      <td>198853</td>\n",
       "      <td>False</td>\n",
       "      <td>0.618</td>\n",
       "      <td>0.4430</td>\n",
       "      <td>2</td>\n",
       "      <td>-9.681</td>\n",
       "      <td>1</td>\n",
       "      <td>0.0526</td>\n",
       "      <td>0.4690</td>\n",
       "      <td>0.000000</td>\n",
       "      <td>0.0829</td>\n",
       "      <td>0.167</td>\n",
       "      <td>119.949</td>\n",
       "      <td>4</td>\n",
       "      <td>acoustic</td>\n",
       "    </tr>\n",
       "  </tbody>\n",
       "</table>\n",
       "</div>"
      ],
      "text/plain": [
       "                 track_id                 artists  \\\n",
       "0  5SuOikwiRyPMVoIQDJUgSV             Gen Hoshino   \n",
       "1  4qPNDBW1i3p13qLCt0Ki3A            Ben Woodward   \n",
       "2  1iJBSr7s7jYXzM8EGcbK5b  Ingrid Michaelson;ZAYN   \n",
       "3  6lfxq3CG4xtTiEg7opyCyx            Kina Grannis   \n",
       "4  5vjLSffimiIP26QG5WcN2K        Chord Overstreet   \n",
       "\n",
       "                                          album_name  \\\n",
       "0                                             Comedy   \n",
       "1                                   Ghost (Acoustic)   \n",
       "2                                     To Begin Again   \n",
       "3  Crazy Rich Asians (Original Motion Picture Sou...   \n",
       "4                                            Hold On   \n",
       "\n",
       "                   track_name  popularity  duration_ms  explicit  \\\n",
       "0                      Comedy          73       230666     False   \n",
       "1            Ghost - Acoustic          55       149610     False   \n",
       "2              To Begin Again          57       210826     False   \n",
       "3  Can't Help Falling In Love          71       201933     False   \n",
       "4                     Hold On          82       198853     False   \n",
       "\n",
       "   danceability  energy  key  loudness  mode  speechiness  acousticness  \\\n",
       "0         0.676  0.4610    1    -6.746     0       0.1430        0.0322   \n",
       "1         0.420  0.1660    1   -17.235     1       0.0763        0.9240   \n",
       "2         0.438  0.3590    0    -9.734     1       0.0557        0.2100   \n",
       "3         0.266  0.0596    0   -18.515     1       0.0363        0.9050   \n",
       "4         0.618  0.4430    2    -9.681     1       0.0526        0.4690   \n",
       "\n",
       "   instrumentalness  liveness  valence    tempo  time_signature track_genre  \n",
       "0          0.000001    0.3580    0.715   87.917               4    acoustic  \n",
       "1          0.000006    0.1010    0.267   77.489               4    acoustic  \n",
       "2          0.000000    0.1170    0.120   76.332               4    acoustic  \n",
       "3          0.000071    0.1320    0.143  181.740               3    acoustic  \n",
       "4          0.000000    0.0829    0.167  119.949               4    acoustic  "
      ]
     },
     "execution_count": 9,
     "metadata": {},
     "output_type": "execute_result"
    }
   ],
   "source": [
    "spotify_df = spotify_df.drop(['Unnamed: 0'], axis=1)\n",
    "spotify_df.head()"
   ]
  },
  {
   "cell_type": "markdown",
   "id": "ac9bf1d3",
   "metadata": {},
   "source": [
    "### **_Nulls review_**"
   ]
  },
  {
   "cell_type": "code",
   "execution_count": 10,
   "id": "f09345ca",
   "metadata": {},
   "outputs": [
    {
     "data": {
      "text/plain": [
       "track_id            0\n",
       "artists             1\n",
       "album_name          1\n",
       "track_name          1\n",
       "popularity          0\n",
       "duration_ms         0\n",
       "explicit            0\n",
       "danceability        0\n",
       "energy              0\n",
       "key                 0\n",
       "loudness            0\n",
       "mode                0\n",
       "speechiness         0\n",
       "acousticness        0\n",
       "instrumentalness    0\n",
       "liveness            0\n",
       "valence             0\n",
       "tempo               0\n",
       "time_signature      0\n",
       "track_genre         0\n",
       "dtype: int64"
      ]
     },
     "execution_count": 10,
     "metadata": {},
     "output_type": "execute_result"
    }
   ],
   "source": [
    "spotify_df.isnull().sum()"
   ]
  },
  {
   "cell_type": "markdown",
   "id": "c440b9f6",
   "metadata": {},
   "source": [
    "Since there are nulls, we are going to verify which rows of the dataset are nulls. In this case, as we can see there is just one null row, and since the data that is null can not be imputed the best way to manage it is dropping the null row. "
   ]
  },
  {
   "cell_type": "code",
   "execution_count": 11,
   "id": "eb239210",
   "metadata": {},
   "outputs": [
    {
     "data": {
      "text/html": [
       "<div>\n",
       "<style scoped>\n",
       "    .dataframe tbody tr th:only-of-type {\n",
       "        vertical-align: middle;\n",
       "    }\n",
       "\n",
       "    .dataframe tbody tr th {\n",
       "        vertical-align: top;\n",
       "    }\n",
       "\n",
       "    .dataframe thead th {\n",
       "        text-align: right;\n",
       "    }\n",
       "</style>\n",
       "<table border=\"1\" class=\"dataframe\">\n",
       "  <thead>\n",
       "    <tr style=\"text-align: right;\">\n",
       "      <th></th>\n",
       "      <th>track_id</th>\n",
       "      <th>artists</th>\n",
       "      <th>album_name</th>\n",
       "      <th>track_name</th>\n",
       "      <th>popularity</th>\n",
       "      <th>duration_ms</th>\n",
       "      <th>explicit</th>\n",
       "      <th>danceability</th>\n",
       "      <th>energy</th>\n",
       "      <th>key</th>\n",
       "      <th>loudness</th>\n",
       "      <th>mode</th>\n",
       "      <th>speechiness</th>\n",
       "      <th>acousticness</th>\n",
       "      <th>instrumentalness</th>\n",
       "      <th>liveness</th>\n",
       "      <th>valence</th>\n",
       "      <th>tempo</th>\n",
       "      <th>time_signature</th>\n",
       "      <th>track_genre</th>\n",
       "    </tr>\n",
       "  </thead>\n",
       "  <tbody>\n",
       "    <tr>\n",
       "      <th>65900</th>\n",
       "      <td>1kR4gIb7nGxHPI3D2ifs59</td>\n",
       "      <td>NaN</td>\n",
       "      <td>NaN</td>\n",
       "      <td>NaN</td>\n",
       "      <td>0</td>\n",
       "      <td>0</td>\n",
       "      <td>False</td>\n",
       "      <td>0.501</td>\n",
       "      <td>0.583</td>\n",
       "      <td>7</td>\n",
       "      <td>-9.46</td>\n",
       "      <td>0</td>\n",
       "      <td>0.0605</td>\n",
       "      <td>0.69</td>\n",
       "      <td>0.00396</td>\n",
       "      <td>0.0747</td>\n",
       "      <td>0.734</td>\n",
       "      <td>138.391</td>\n",
       "      <td>4</td>\n",
       "      <td>k-pop</td>\n",
       "    </tr>\n",
       "  </tbody>\n",
       "</table>\n",
       "</div>"
      ],
      "text/plain": [
       "                     track_id artists album_name track_name  popularity  \\\n",
       "65900  1kR4gIb7nGxHPI3D2ifs59     NaN        NaN        NaN           0   \n",
       "\n",
       "       duration_ms  explicit  danceability  energy  key  loudness  mode  \\\n",
       "65900            0     False         0.501   0.583    7     -9.46     0   \n",
       "\n",
       "       speechiness  acousticness  instrumentalness  liveness  valence  \\\n",
       "65900       0.0605          0.69           0.00396    0.0747    0.734   \n",
       "\n",
       "         tempo  time_signature track_genre  \n",
       "65900  138.391               4       k-pop  "
      ]
     },
     "execution_count": 11,
     "metadata": {},
     "output_type": "execute_result"
    }
   ],
   "source": [
    "spotify_df[spotify_df.isnull().any(axis=1)]"
   ]
  },
  {
   "cell_type": "code",
   "execution_count": 12,
   "id": "3cd58484",
   "metadata": {},
   "outputs": [],
   "source": [
    "spotify_df = spotify_df.dropna()"
   ]
  },
  {
   "cell_type": "markdown",
   "id": "051b3414",
   "metadata": {},
   "source": [
    "### **_Duplicated Values_**"
   ]
  },
  {
   "cell_type": "code",
   "execution_count": 13,
   "id": "0cc61567",
   "metadata": {},
   "outputs": [
    {
     "name": "stdout",
     "output_type": "stream",
     "text": [
      "Number  of duplicates: 450\n"
     ]
    }
   ],
   "source": [
    "print(f\"Number  of duplicates: {spotify_df.duplicated().sum()}\")"
   ]
  },
  {
   "cell_type": "markdown",
   "id": "243bb122",
   "metadata": {},
   "source": [
    "In this case, **450 duplicate** rows are found. Since these duplicates represent only a small portion of the dataset, they are removed to improve data quality."
   ]
  },
  {
   "cell_type": "code",
   "execution_count": 14,
   "id": "dd84d3ca",
   "metadata": {},
   "outputs": [],
   "source": [
    "spotify_df = spotify_df.drop_duplicates()\n"
   ]
  },
  {
   "cell_type": "code",
   "execution_count": 15,
   "id": "def20709",
   "metadata": {},
   "outputs": [
    {
     "data": {
      "text/plain": [
       "(113549, 20)"
      ]
     },
     "execution_count": 15,
     "metadata": {},
     "output_type": "execute_result"
    }
   ],
   "source": [
    "spotify_df.shape"
   ]
  },
  {
   "cell_type": "markdown",
   "id": "fd13bb84",
   "metadata": {},
   "source": [
    "##### **_Duplicates in `track_id`_**"
   ]
  },
  {
   "cell_type": "markdown",
   "id": "0b4d4bd8",
   "metadata": {},
   "source": [
    "The unique values are now checked to verify that there are no inconsistencies."
   ]
  },
  {
   "cell_type": "code",
   "execution_count": 16,
   "id": "b6978960",
   "metadata": {},
   "outputs": [
    {
     "data": {
      "text/plain": [
       "track_id            89740\n",
       "artists             31437\n",
       "album_name          46589\n",
       "track_name          73608\n",
       "popularity            101\n",
       "duration_ms         50696\n",
       "explicit                2\n",
       "danceability         1174\n",
       "energy               2083\n",
       "key                    12\n",
       "loudness            19480\n",
       "mode                    2\n",
       "speechiness          1489\n",
       "acousticness         5061\n",
       "instrumentalness     5346\n",
       "liveness             1722\n",
       "valence              1790\n",
       "tempo               45652\n",
       "time_signature          5\n",
       "track_genre           114\n",
       "dtype: int64"
      ]
     },
     "execution_count": 16,
     "metadata": {},
     "output_type": "execute_result"
    }
   ],
   "source": [
    "spotify_df.nunique()"
   ]
  },
  {
   "cell_type": "markdown",
   "id": "ec271bcc",
   "metadata": {},
   "source": [
    "In the review of the values it can be seen that the number of values in `track_id` does not match the amount of data there (113549), which is not possible because each track `id` must be unique.\n",
    "\n",
    "To ensure data integrity, rows with duplicate `track_id` values must be removed. Keeping only unique `track_id` entries guarantees that each track is distinct and properly identified in the dataset."
   ]
  },
  {
   "cell_type": "code",
   "execution_count": 17,
   "id": "036d0211",
   "metadata": {},
   "outputs": [
    {
     "data": {
      "text/plain": [
       "(89740, 20)"
      ]
     },
     "execution_count": 17,
     "metadata": {},
     "output_type": "execute_result"
    }
   ],
   "source": [
    "spotify_df = spotify_df.drop_duplicates(subset=['track_id'], keep='first')\n",
    "spotify_df.shape"
   ]
  },
  {
   "cell_type": "markdown",
   "id": "cda471df",
   "metadata": {},
   "source": [
    "##### **_Duplicates in `track_name` and `artist` columns_**"
   ]
  },
  {
   "cell_type": "code",
   "execution_count": 18,
   "id": "aa3ce2f8",
   "metadata": {},
   "outputs": [
    {
     "data": {
      "text/html": [
       "<div>\n",
       "<style scoped>\n",
       "    .dataframe tbody tr th:only-of-type {\n",
       "        vertical-align: middle;\n",
       "    }\n",
       "\n",
       "    .dataframe tbody tr th {\n",
       "        vertical-align: top;\n",
       "    }\n",
       "\n",
       "    .dataframe thead th {\n",
       "        text-align: right;\n",
       "    }\n",
       "</style>\n",
       "<table border=\"1\" class=\"dataframe\">\n",
       "  <thead>\n",
       "    <tr style=\"text-align: right;\">\n",
       "      <th></th>\n",
       "      <th>track_name</th>\n",
       "      <th>artists</th>\n",
       "      <th>count</th>\n",
       "    </tr>\n",
       "  </thead>\n",
       "  <tbody>\n",
       "    <tr>\n",
       "      <th>55084</th>\n",
       "      <td>Rockin' Around The Christmas Tree</td>\n",
       "      <td>Brenda Lee</td>\n",
       "      <td>45</td>\n",
       "    </tr>\n",
       "    <tr>\n",
       "      <th>37981</th>\n",
       "      <td>Little Saint Nick - 1991 Remix</td>\n",
       "      <td>The Beach Boys</td>\n",
       "      <td>41</td>\n",
       "    </tr>\n",
       "    <tr>\n",
       "      <th>55570</th>\n",
       "      <td>Run Rudolph Run</td>\n",
       "      <td>Chuck Berry</td>\n",
       "      <td>40</td>\n",
       "    </tr>\n",
       "    <tr>\n",
       "      <th>23998</th>\n",
       "      <td>Frosty The Snowman</td>\n",
       "      <td>Ella Fitzgerald</td>\n",
       "      <td>34</td>\n",
       "    </tr>\n",
       "    <tr>\n",
       "      <th>37090</th>\n",
       "      <td>Let It Snow! Let It Snow! Let It Snow!</td>\n",
       "      <td>Dean Martin</td>\n",
       "      <td>32</td>\n",
       "    </tr>\n",
       "    <tr>\n",
       "      <th>42561</th>\n",
       "      <td>Mistletoe</td>\n",
       "      <td>Justin Bieber</td>\n",
       "      <td>31</td>\n",
       "    </tr>\n",
       "    <tr>\n",
       "      <th>59376</th>\n",
       "      <td>Sleigh Ride</td>\n",
       "      <td>Ella Fitzgerald</td>\n",
       "      <td>30</td>\n",
       "    </tr>\n",
       "    <tr>\n",
       "      <th>30348</th>\n",
       "      <td>I Saw Mommy Kissing Santa Claus</td>\n",
       "      <td>The Jackson 5</td>\n",
       "      <td>27</td>\n",
       "    </tr>\n",
       "    <tr>\n",
       "      <th>64803</th>\n",
       "      <td>The Christmas Song (Merry Christmas To You)</td>\n",
       "      <td>Nat King Cole</td>\n",
       "      <td>26</td>\n",
       "    </tr>\n",
       "    <tr>\n",
       "      <th>56426</th>\n",
       "      <td>Santa Claus Is Coming To Town</td>\n",
       "      <td>The Jackson 5</td>\n",
       "      <td>26</td>\n",
       "    </tr>\n",
       "  </tbody>\n",
       "</table>\n",
       "</div>"
      ],
      "text/plain": [
       "                                        track_name          artists  count\n",
       "55084            Rockin' Around The Christmas Tree       Brenda Lee     45\n",
       "37981               Little Saint Nick - 1991 Remix   The Beach Boys     41\n",
       "55570                              Run Rudolph Run      Chuck Berry     40\n",
       "23998                           Frosty The Snowman  Ella Fitzgerald     34\n",
       "37090       Let It Snow! Let It Snow! Let It Snow!      Dean Martin     32\n",
       "42561                                    Mistletoe    Justin Bieber     31\n",
       "59376                                  Sleigh Ride  Ella Fitzgerald     30\n",
       "30348              I Saw Mommy Kissing Santa Claus    The Jackson 5     27\n",
       "64803  The Christmas Song (Merry Christmas To You)    Nat King Cole     26\n",
       "56426                Santa Claus Is Coming To Town    The Jackson 5     26"
      ]
     },
     "execution_count": 18,
     "metadata": {},
     "output_type": "execute_result"
    }
   ],
   "source": [
    "songs_grouped = spotify_df.groupby(['track_name', 'artists'])\n",
    "\n",
    "group_count = (songs_grouped.size().reset_index(name='count').sort_values(by='count', ascending=False))\n",
    "\n",
    "repeated_songs = group_count.query('count > 1')\n",
    "repeated_songs.head(10)"
   ]
  },
  {
   "cell_type": "code",
   "execution_count": 19,
   "id": "eb3e1a0b",
   "metadata": {},
   "outputs": [
    {
     "data": {
      "text/plain": [
       "(4657, 3)"
      ]
     },
     "execution_count": 19,
     "metadata": {},
     "output_type": "execute_result"
    }
   ],
   "source": [
    "repeated_songs.shape"
   ]
  },
  {
   "cell_type": "markdown",
   "id": "440c1080",
   "metadata": {},
   "source": [
    "To have a better approach of the evidenced duplicates there are some processes to do before treating them.\n",
    "\n",
    "We consolidate sub-genres into broader categories to a better use of the data."
   ]
  },
  {
   "cell_type": "code",
   "execution_count": 20,
   "id": "a1feceba",
   "metadata": {},
   "outputs": [
    {
     "data": {
      "text/plain": [
       "array(['acoustic', 'afrobeat', 'alt-rock', 'alternative', 'ambient',\n",
       "       'anime', 'black-metal', 'bluegrass', 'blues', 'brazil',\n",
       "       'breakbeat', 'british', 'cantopop', 'chicago-house', 'children',\n",
       "       'chill', 'classical', 'club', 'comedy', 'country', 'dance',\n",
       "       'dancehall', 'death-metal', 'deep-house', 'detroit-techno',\n",
       "       'disco', 'disney', 'drum-and-bass', 'dub', 'dubstep', 'edm',\n",
       "       'electro', 'electronic', 'emo', 'folk', 'forro', 'french', 'funk',\n",
       "       'garage', 'german', 'gospel', 'goth', 'grindcore', 'groove',\n",
       "       'grunge', 'guitar', 'happy', 'hard-rock', 'hardcore', 'hardstyle',\n",
       "       'heavy-metal', 'hip-hop', 'honky-tonk', 'house', 'idm', 'indian',\n",
       "       'indie-pop', 'indie', 'industrial', 'iranian', 'j-dance', 'j-idol',\n",
       "       'j-pop', 'j-rock', 'jazz', 'k-pop', 'kids', 'latin', 'latino',\n",
       "       'malay', 'mandopop', 'metal', 'metalcore', 'minimal-techno', 'mpb',\n",
       "       'new-age', 'opera', 'pagode', 'party', 'piano', 'pop-film', 'pop',\n",
       "       'power-pop', 'progressive-house', 'psych-rock', 'punk-rock',\n",
       "       'punk', 'r-n-b', 'reggae', 'reggaeton', 'rock-n-roll', 'rock',\n",
       "       'rockabilly', 'romance', 'sad', 'salsa', 'samba', 'sertanejo',\n",
       "       'show-tunes', 'singer-songwriter', 'ska', 'sleep', 'soul',\n",
       "       'spanish', 'study', 'swedish', 'synth-pop', 'tango', 'techno',\n",
       "       'trance', 'trip-hop', 'turkish', 'world-music'], dtype=object)"
      ]
     },
     "execution_count": 20,
     "metadata": {},
     "output_type": "execute_result"
    }
   ],
   "source": [
    "spotify_df[\"track_genre\"].unique()"
   ]
  },
  {
   "cell_type": "code",
   "execution_count": 21,
   "id": "06050470",
   "metadata": {},
   "outputs": [],
   "source": [
    "genre_mapping = {\n",
    "      'Rock': ['alt-rock', 'alternative', 'grunge', 'hard-rock', 'psych-rock', 'rock', 'rock-n-roll','rockabilly', 'indie', 'garage', 'j-rock'],\n",
    "      'Metal': ['black-metal', 'death-metal', 'heavy-metal', 'metal', 'metalcore', 'grindcore','industrial'],\n",
    "      'Punk': ['punk', 'punk-rock', 'emo'],\n",
    "      'Pop': ['pop', 'power-pop', 'synth-pop', 'k-pop', 'j-pop', 'cantopop', 'mandopop','indie-pop', 'british', 'swedish'],\n",
    "      'Film/Show Music': ['pop-film', 'disney', 'show-tunes', 'anime'],\n",
    "      'Electronic': ['electronic', 'electro', 'idm', 'trip-hop'],\n",
    "      'Dance': ['dance', 'club', 'edm'],\n",
    "      'House': ['house', 'deep-house', 'chicago-house', 'progressive-house', 'detroit-techno','j-dance'],\n",
    "      'Techno': ['techno', 'minimal-techno'],\n",
    "      'Bass Music': ['dubstep', 'drum-and-bass', 'dub', 'breakbeat', 'hardstyle'],\n",
    "      'Hip-Hop': ['hip-hop', 'r-n-b'],\n",
    "      'Reggae/Dancehall': ['reggae', 'dancehall', 'reggaeton'],\n",
    "      'Jazz': ['jazz', 'groove'],\n",
    "      'Blues': ['blues', 'bluegrass', 'honky-tonk'],\n",
    "      'Soul/Funk': ['soul', 'funk', 'gospel'],\n",
    "      'Country': ['country'],\n",
    "      'Folk': ['folk', 'singer-songwriter'],\n",
    "      'Latin': ['latin', 'latino', 'salsa', 'samba', 'pagode', 'sertanejo', 'brazil', 'mpb','tango', 'spanish', 'forro'],\n",
    "      'World Music': ['afrobeat', 'indian', 'iranian', 'malay', 'turkish', 'french', 'german','world-music'],\n",
    "      'Classical': ['classical', 'opera', 'piano'],\n",
    "      'Instrumental': ['acoustic', 'guitar', 'new-age'],\n",
    "      'Ambient/Chill': ['ambient', 'chill', 'sleep', 'study'],\n",
    "      'Mood': ['happy', 'sad', 'romance'],\n",
    "      'Children': ['children', 'kids'],'Comedy/Novelty': ['comedy'],'Disco': ['disco'],'Goth': ['goth'],'Ska': ['ska'],'Party': ['party'],'J-Idol': ['j-idol']\n",
    "}"
   ]
  },
  {
   "cell_type": "code",
   "execution_count": 22,
   "id": "443bf9b8",
   "metadata": {},
   "outputs": [
    {
     "data": {
      "text/plain": [
       "array(['Instrumental', 'World Music', 'Rock', 'Ambient/Chill',\n",
       "       'Film/Show Music', 'Metal', 'Blues', 'Latin', 'Bass Music', 'Pop',\n",
       "       'House', 'Children', 'Classical', 'Dance', 'Comedy/Novelty',\n",
       "       'Country', 'Reggae/Dancehall', 'Disco', 'Electronic', 'Punk',\n",
       "       'Folk', 'Soul/Funk', 'Goth', 'Jazz', 'Mood', nan, 'Hip-Hop',\n",
       "       'J-Idol', 'Techno', 'Party', 'Ska'], dtype=object)"
      ]
     },
     "execution_count": 22,
     "metadata": {},
     "output_type": "execute_result"
    }
   ],
   "source": [
    "genre_category_mapping = {genre: category for category, genres in genre_mapping.items() for genre in genres}\n",
    "\n",
    "spotify_df[\"track_genre\"] = spotify_df[\"track_genre\"].map(genre_category_mapping)\n",
    "\n",
    "spotify_df[\"track_genre\"].unique()"
   ]
  },
  {
   "cell_type": "markdown",
   "id": "04b89a63",
   "metadata": {},
   "source": [
    "Now that the genres are estandarized we can proceed handling the duplicates.\n",
    "\n",
    "A list of columns is created in which the track_id and album_name are not taken into account because it is possible that the same song appears in several albums or has unique identifiers, but that does not mean that it is a different version of the song. And based on this, the duplicates that appear in this list are eliminated."
   ]
  },
  {
   "cell_type": "code",
   "execution_count": 50,
   "id": "df70eb80",
   "metadata": {},
   "outputs": [
    {
     "data": {
      "text/plain": [
       "(81343, 14)"
      ]
     },
     "execution_count": 50,
     "metadata": {},
     "output_type": "execute_result"
    }
   ],
   "source": [
    "subset_cols = [col for col in spotify_df.columns if col not in [\"track_id\", \"album_name\"]]\n",
    "\n",
    "spotify_df = spotify_df.drop_duplicates(subset=subset_cols, keep=\"first\")\n",
    "\n",
    "spotify_df.shape"
   ]
  },
  {
   "cell_type": "markdown",
   "id": "9a62b077",
   "metadata": {},
   "source": [
    "Finally, the songs are grouped by `track_id` and `artist`, and from each group the most popular song index is selected. Then the original DataFrame is filtered only with these values to leave the most popular version of the song."
   ]
  },
  {
   "cell_type": "code",
   "execution_count": 25,
   "id": "2143745a",
   "metadata": {},
   "outputs": [],
   "source": [
    "idx = spotify_df.groupby(['track_name', 'artists'])['popularity'].idxmax()\n",
    "spotify_df = spotify_df.loc[idx].reset_index(drop=True)"
   ]
  },
  {
   "cell_type": "code",
   "execution_count": 26,
   "id": "441bb56e",
   "metadata": {},
   "outputs": [
    {
     "data": {
      "text/plain": [
       "(81343, 20)"
      ]
     },
     "execution_count": 26,
     "metadata": {},
     "output_type": "execute_result"
    }
   ],
   "source": [
    "spotify_df.shape"
   ]
  },
  {
   "cell_type": "markdown",
   "id": "856391fa",
   "metadata": {},
   "source": [
    "### **_Song Duration (miliseconds to minutes)_**"
   ]
  },
  {
   "cell_type": "markdown",
   "id": "5202ae0b",
   "metadata": {},
   "source": [
    "The change from milliseconds to minutes in the “duration_ms” column is made because this way the interpretation of the duration of the songs is more intuitive."
   ]
  },
  {
   "cell_type": "code",
   "execution_count": 27,
   "id": "2b0d732c",
   "metadata": {},
   "outputs": [
    {
     "name": "stdout",
     "output_type": "stream",
     "text": [
      "0        178533\n",
      "1        151680\n",
      "2         84305\n",
      "3         86675\n",
      "4        289133\n",
      "          ...  \n",
      "81338    225785\n",
      "81339    202440\n",
      "81340    144533\n",
      "81341    228000\n",
      "81342    185666\n",
      "Name: duration_ms, Length: 81343, dtype: int64\n"
     ]
    }
   ],
   "source": [
    "print(spotify_df[\"duration_ms\"])"
   ]
  },
  {
   "cell_type": "code",
   "execution_count": 28,
   "id": "99f4bb38",
   "metadata": {},
   "outputs": [],
   "source": [
    "spotify_df['duration_min'] = spotify_df['duration_ms'] / 60000"
   ]
  },
  {
   "cell_type": "code",
   "execution_count": 29,
   "id": "0d64acf1",
   "metadata": {},
   "outputs": [
    {
     "data": {
      "text/html": [
       "<div>\n",
       "<style scoped>\n",
       "    .dataframe tbody tr th:only-of-type {\n",
       "        vertical-align: middle;\n",
       "    }\n",
       "\n",
       "    .dataframe tbody tr th {\n",
       "        vertical-align: top;\n",
       "    }\n",
       "\n",
       "    .dataframe thead th {\n",
       "        text-align: right;\n",
       "    }\n",
       "</style>\n",
       "<table border=\"1\" class=\"dataframe\">\n",
       "  <thead>\n",
       "    <tr style=\"text-align: right;\">\n",
       "      <th></th>\n",
       "      <th>track_id</th>\n",
       "      <th>artists</th>\n",
       "      <th>album_name</th>\n",
       "      <th>track_name</th>\n",
       "      <th>popularity</th>\n",
       "      <th>duration_min</th>\n",
       "      <th>explicit</th>\n",
       "      <th>danceability</th>\n",
       "      <th>energy</th>\n",
       "      <th>key</th>\n",
       "      <th>loudness</th>\n",
       "      <th>mode</th>\n",
       "      <th>speechiness</th>\n",
       "      <th>acousticness</th>\n",
       "      <th>instrumentalness</th>\n",
       "      <th>liveness</th>\n",
       "      <th>valence</th>\n",
       "      <th>tempo</th>\n",
       "      <th>time_signature</th>\n",
       "      <th>track_genre</th>\n",
       "    </tr>\n",
       "  </thead>\n",
       "  <tbody>\n",
       "    <tr>\n",
       "      <th>0</th>\n",
       "      <td>0fROT4kK5oTm8xO8PX6EJF</td>\n",
       "      <td>Rilès</td>\n",
       "      <td>!I'll Be Back!</td>\n",
       "      <td>!I'll Be Back!</td>\n",
       "      <td>52</td>\n",
       "      <td>2.975550</td>\n",
       "      <td>True</td>\n",
       "      <td>0.823</td>\n",
       "      <td>0.6120</td>\n",
       "      <td>1</td>\n",
       "      <td>-7.767</td>\n",
       "      <td>1</td>\n",
       "      <td>0.2480</td>\n",
       "      <td>0.168</td>\n",
       "      <td>0.00000</td>\n",
       "      <td>0.1090</td>\n",
       "      <td>0.6880</td>\n",
       "      <td>142.959</td>\n",
       "      <td>4</td>\n",
       "      <td>World Music</td>\n",
       "    </tr>\n",
       "    <tr>\n",
       "      <th>1</th>\n",
       "      <td>1hH0t381PIXmUVWyG1Vj3p</td>\n",
       "      <td>Brian Hyland</td>\n",
       "      <td>The Bashful Blond</td>\n",
       "      <td>\"A\" You're Adorable</td>\n",
       "      <td>39</td>\n",
       "      <td>2.528000</td>\n",
       "      <td>False</td>\n",
       "      <td>0.615</td>\n",
       "      <td>0.3750</td>\n",
       "      <td>0</td>\n",
       "      <td>-10.362</td>\n",
       "      <td>0</td>\n",
       "      <td>0.0319</td>\n",
       "      <td>0.482</td>\n",
       "      <td>0.00000</td>\n",
       "      <td>0.1110</td>\n",
       "      <td>0.9220</td>\n",
       "      <td>110.720</td>\n",
       "      <td>4</td>\n",
       "      <td>Rock</td>\n",
       "    </tr>\n",
       "    <tr>\n",
       "      <th>2</th>\n",
       "      <td>1B45DvGMoFWdbAEUH2qliG</td>\n",
       "      <td>Little Apple Band</td>\n",
       "      <td>The Favorite Songs Of Sesame Street</td>\n",
       "      <td>\"C\" IS FOR COOKIE</td>\n",
       "      <td>32</td>\n",
       "      <td>1.405083</td>\n",
       "      <td>False</td>\n",
       "      <td>0.553</td>\n",
       "      <td>0.8120</td>\n",
       "      <td>3</td>\n",
       "      <td>-5.542</td>\n",
       "      <td>1</td>\n",
       "      <td>0.0558</td>\n",
       "      <td>0.132</td>\n",
       "      <td>0.00001</td>\n",
       "      <td>0.0794</td>\n",
       "      <td>0.8710</td>\n",
       "      <td>118.368</td>\n",
       "      <td>4</td>\n",
       "      <td>Children</td>\n",
       "    </tr>\n",
       "    <tr>\n",
       "      <th>3</th>\n",
       "      <td>73lXf5if6MWVWnsgXhK8bd</td>\n",
       "      <td>Little Apple Band</td>\n",
       "      <td>Sesame Street and Friends</td>\n",
       "      <td>\"C\" is for Cookie</td>\n",
       "      <td>8</td>\n",
       "      <td>1.444583</td>\n",
       "      <td>False</td>\n",
       "      <td>0.664</td>\n",
       "      <td>0.6110</td>\n",
       "      <td>3</td>\n",
       "      <td>-8.687</td>\n",
       "      <td>1</td>\n",
       "      <td>0.0886</td>\n",
       "      <td>0.120</td>\n",
       "      <td>0.00000</td>\n",
       "      <td>0.0408</td>\n",
       "      <td>0.7580</td>\n",
       "      <td>118.443</td>\n",
       "      <td>4</td>\n",
       "      <td>Children</td>\n",
       "    </tr>\n",
       "    <tr>\n",
       "      <th>4</th>\n",
       "      <td>0jmz4aHEIBCRgrcV2xEkwB</td>\n",
       "      <td>Traditional;Sistine Chapel Choir;Massimo Palom...</td>\n",
       "      <td>Classical Christmas</td>\n",
       "      <td>\"Christe, Redemptor omnium\"</td>\n",
       "      <td>0</td>\n",
       "      <td>4.818883</td>\n",
       "      <td>False</td>\n",
       "      <td>0.111</td>\n",
       "      <td>0.0568</td>\n",
       "      <td>10</td>\n",
       "      <td>-28.053</td>\n",
       "      <td>1</td>\n",
       "      <td>0.0551</td>\n",
       "      <td>0.990</td>\n",
       "      <td>0.69700</td>\n",
       "      <td>0.1100</td>\n",
       "      <td>0.0395</td>\n",
       "      <td>169.401</td>\n",
       "      <td>1</td>\n",
       "      <td>Ambient/Chill</td>\n",
       "    </tr>\n",
       "  </tbody>\n",
       "</table>\n",
       "</div>"
      ],
      "text/plain": [
       "                 track_id                                            artists  \\\n",
       "0  0fROT4kK5oTm8xO8PX6EJF                                              Rilès   \n",
       "1  1hH0t381PIXmUVWyG1Vj3p                                       Brian Hyland   \n",
       "2  1B45DvGMoFWdbAEUH2qliG                                  Little Apple Band   \n",
       "3  73lXf5if6MWVWnsgXhK8bd                                  Little Apple Band   \n",
       "4  0jmz4aHEIBCRgrcV2xEkwB  Traditional;Sistine Chapel Choir;Massimo Palom...   \n",
       "\n",
       "                            album_name                   track_name  \\\n",
       "0                       !I'll Be Back!               !I'll Be Back!   \n",
       "1                    The Bashful Blond          \"A\" You're Adorable   \n",
       "2  The Favorite Songs Of Sesame Street            \"C\" IS FOR COOKIE   \n",
       "3            Sesame Street and Friends            \"C\" is for Cookie   \n",
       "4                  Classical Christmas  \"Christe, Redemptor omnium\"   \n",
       "\n",
       "   popularity  duration_min  explicit  danceability  energy  key  loudness  \\\n",
       "0          52      2.975550      True         0.823  0.6120    1    -7.767   \n",
       "1          39      2.528000     False         0.615  0.3750    0   -10.362   \n",
       "2          32      1.405083     False         0.553  0.8120    3    -5.542   \n",
       "3           8      1.444583     False         0.664  0.6110    3    -8.687   \n",
       "4           0      4.818883     False         0.111  0.0568   10   -28.053   \n",
       "\n",
       "   mode  speechiness  acousticness  instrumentalness  liveness  valence  \\\n",
       "0     1       0.2480         0.168           0.00000    0.1090   0.6880   \n",
       "1     0       0.0319         0.482           0.00000    0.1110   0.9220   \n",
       "2     1       0.0558         0.132           0.00001    0.0794   0.8710   \n",
       "3     1       0.0886         0.120           0.00000    0.0408   0.7580   \n",
       "4     1       0.0551         0.990           0.69700    0.1100   0.0395   \n",
       "\n",
       "     tempo  time_signature    track_genre  \n",
       "0  142.959               4    World Music  \n",
       "1  110.720               4           Rock  \n",
       "2  118.368               4       Children  \n",
       "3  118.443               4       Children  \n",
       "4  169.401               1  Ambient/Chill  "
      ]
     },
     "execution_count": 29,
     "metadata": {},
     "output_type": "execute_result"
    }
   ],
   "source": [
    "spotify_df = spotify_df.drop('duration_ms', axis=1)\n",
    "\n",
    "spotify_df = spotify_df.reindex(['track_id', 'artists', 'album_name', 'track_name', 'popularity',\n",
    " 'duration_min', 'explicit', 'danceability', 'energy', 'key', 'loudness', 'mode',\n",
    " 'speechiness', 'acousticness', 'instrumentalness', 'liveness', 'valence',\n",
    " 'tempo', 'time_signature', 'track_genre'], axis=1)\n",
    "\n",
    "spotify_df.head()"
   ]
  },
  {
   "cell_type": "markdown",
   "id": "25e9ab04",
   "metadata": {},
   "source": [
    "### **_Numeric values to Categorical values_**"
   ]
  },
  {
   "cell_type": "markdown",
   "id": "d54f8b31",
   "metadata": {},
   "source": [
    "**_Popularity_**"
   ]
  },
  {
   "cell_type": "code",
   "execution_count": 30,
   "id": "9ec26a3e",
   "metadata": {},
   "outputs": [],
   "source": [
    "spotify_df['popularity_cat'] = pd.cut(spotify_df['popularity'], \n",
    "                               bins=[0, 30, 60, 80, 100],\n",
    "                               labels=['Low', 'Medium', 'High', 'Very High'])"
   ]
  },
  {
   "cell_type": "markdown",
   "id": "31b4dd72",
   "metadata": {},
   "source": [
    "**_Danceability_**"
   ]
  },
  {
   "cell_type": "code",
   "execution_count": 31,
   "id": "488691e9",
   "metadata": {},
   "outputs": [],
   "source": [
    "spotify_df['danceability_cat'] = pd.cut(spotify_df['danceability'], \n",
    "                                 bins=[0, 0.3, 0.6, 1],\n",
    "                                 labels=['Low', 'Medium', 'High'])"
   ]
  },
  {
   "cell_type": "markdown",
   "id": "c162cfdf",
   "metadata": {},
   "source": [
    "**_Energy_**"
   ]
  },
  {
   "cell_type": "code",
   "execution_count": 32,
   "id": "7bcb0eaf",
   "metadata": {},
   "outputs": [],
   "source": [
    "spotify_df['energy_cat'] = pd.cut(spotify_df['energy'], \n",
    "                           bins=[0, 0.3, 0.7, 1],\n",
    "                           labels=['Low', 'Medium', 'High'])"
   ]
  },
  {
   "cell_type": "markdown",
   "id": "8c2460e5",
   "metadata": {},
   "source": [
    "**_Duration_**"
   ]
  },
  {
   "cell_type": "code",
   "execution_count": 33,
   "id": "ee7f3f27",
   "metadata": {},
   "outputs": [],
   "source": [
    "spotify_df['duration_cat'] = pd.cut(spotify_df['duration_min'],\n",
    "                             bins=[0, 2, 3.5, 5, 10, 20],\n",
    "                             labels=['Very Short', 'Short', 'Average', 'Long', 'Very Long'])"
   ]
  },
  {
   "cell_type": "markdown",
   "id": "9e78ab1f",
   "metadata": {},
   "source": [
    "**_Valence_**"
   ]
  },
  {
   "cell_type": "code",
   "execution_count": 34,
   "id": "669a80bb",
   "metadata": {},
   "outputs": [],
   "source": [
    "spotify_df['valence_cat'] = pd.cut(spotify_df['valence'],\n",
    "                            bins=[0, 0.2, 0.4, 0.6, 0.8, 1],\n",
    "                            labels=['Very Sad','Sad','Neutral','Happy','Very Happy'])"
   ]
  },
  {
   "cell_type": "markdown",
   "id": "fc157667",
   "metadata": {},
   "source": [
    "**_Loudness and Liveness_**"
   ]
  },
  {
   "cell_type": "code",
   "execution_count": 35,
   "id": "de8ff787",
   "metadata": {},
   "outputs": [],
   "source": [
    "spotify_df['is_loud'] = spotify_df['loudness'] > -5\n",
    "spotify_df['is_live'] = spotify_df['liveness'] > 0.8"
   ]
  },
  {
   "cell_type": "markdown",
   "id": "307356bc",
   "metadata": {},
   "source": [
    "### **_Column Removal_**"
   ]
  },
  {
   "cell_type": "markdown",
   "id": "5471d88a",
   "metadata": {},
   "source": [
    "In this part we eliminate the numerical columns that are not going to be used in the future analysis."
   ]
  },
  {
   "cell_type": "code",
   "execution_count": null,
   "id": "10e8eee3",
   "metadata": {},
   "outputs": [],
   "source": [
    "spotify_df = spotify_df.drop(['popularity', 'danceability', 'energy', 'valence', 'loudness', 'liveness','key', \n",
    "                              'mode', 'time_signature', 'tempo', 'speechiness', 'acousticness', 'instrumentalness'], axis=1)"
   ]
  },
  {
   "cell_type": "code",
   "execution_count": 38,
   "id": "e0fcc557",
   "metadata": {},
   "outputs": [
    {
     "data": {
      "text/html": [
       "<div>\n",
       "<style scoped>\n",
       "    .dataframe tbody tr th:only-of-type {\n",
       "        vertical-align: middle;\n",
       "    }\n",
       "\n",
       "    .dataframe tbody tr th {\n",
       "        vertical-align: top;\n",
       "    }\n",
       "\n",
       "    .dataframe thead th {\n",
       "        text-align: right;\n",
       "    }\n",
       "</style>\n",
       "<table border=\"1\" class=\"dataframe\">\n",
       "  <thead>\n",
       "    <tr style=\"text-align: right;\">\n",
       "      <th></th>\n",
       "      <th>track_id</th>\n",
       "      <th>artists</th>\n",
       "      <th>album_name</th>\n",
       "      <th>track_name</th>\n",
       "      <th>duration_min</th>\n",
       "      <th>explicit</th>\n",
       "      <th>track_genre</th>\n",
       "      <th>popularity_cat</th>\n",
       "      <th>danceability_cat</th>\n",
       "      <th>energy_cat</th>\n",
       "      <th>duration_cat</th>\n",
       "      <th>valence_cat</th>\n",
       "      <th>is_loud</th>\n",
       "      <th>is_live</th>\n",
       "    </tr>\n",
       "  </thead>\n",
       "  <tbody>\n",
       "    <tr>\n",
       "      <th>0</th>\n",
       "      <td>0fROT4kK5oTm8xO8PX6EJF</td>\n",
       "      <td>Rilès</td>\n",
       "      <td>!I'll Be Back!</td>\n",
       "      <td>!I'll Be Back!</td>\n",
       "      <td>2.975550</td>\n",
       "      <td>True</td>\n",
       "      <td>World Music</td>\n",
       "      <td>Medium</td>\n",
       "      <td>High</td>\n",
       "      <td>Medium</td>\n",
       "      <td>Short</td>\n",
       "      <td>Happy</td>\n",
       "      <td>False</td>\n",
       "      <td>False</td>\n",
       "    </tr>\n",
       "    <tr>\n",
       "      <th>1</th>\n",
       "      <td>1hH0t381PIXmUVWyG1Vj3p</td>\n",
       "      <td>Brian Hyland</td>\n",
       "      <td>The Bashful Blond</td>\n",
       "      <td>\"A\" You're Adorable</td>\n",
       "      <td>2.528000</td>\n",
       "      <td>False</td>\n",
       "      <td>Rock</td>\n",
       "      <td>Medium</td>\n",
       "      <td>High</td>\n",
       "      <td>Medium</td>\n",
       "      <td>Short</td>\n",
       "      <td>Very Happy</td>\n",
       "      <td>False</td>\n",
       "      <td>False</td>\n",
       "    </tr>\n",
       "    <tr>\n",
       "      <th>2</th>\n",
       "      <td>1B45DvGMoFWdbAEUH2qliG</td>\n",
       "      <td>Little Apple Band</td>\n",
       "      <td>The Favorite Songs Of Sesame Street</td>\n",
       "      <td>\"C\" IS FOR COOKIE</td>\n",
       "      <td>1.405083</td>\n",
       "      <td>False</td>\n",
       "      <td>Children</td>\n",
       "      <td>Medium</td>\n",
       "      <td>Medium</td>\n",
       "      <td>High</td>\n",
       "      <td>Very Short</td>\n",
       "      <td>Very Happy</td>\n",
       "      <td>False</td>\n",
       "      <td>False</td>\n",
       "    </tr>\n",
       "    <tr>\n",
       "      <th>3</th>\n",
       "      <td>73lXf5if6MWVWnsgXhK8bd</td>\n",
       "      <td>Little Apple Band</td>\n",
       "      <td>Sesame Street and Friends</td>\n",
       "      <td>\"C\" is for Cookie</td>\n",
       "      <td>1.444583</td>\n",
       "      <td>False</td>\n",
       "      <td>Children</td>\n",
       "      <td>Low</td>\n",
       "      <td>High</td>\n",
       "      <td>Medium</td>\n",
       "      <td>Very Short</td>\n",
       "      <td>Happy</td>\n",
       "      <td>False</td>\n",
       "      <td>False</td>\n",
       "    </tr>\n",
       "    <tr>\n",
       "      <th>4</th>\n",
       "      <td>0jmz4aHEIBCRgrcV2xEkwB</td>\n",
       "      <td>Traditional;Sistine Chapel Choir;Massimo Palom...</td>\n",
       "      <td>Classical Christmas</td>\n",
       "      <td>\"Christe, Redemptor omnium\"</td>\n",
       "      <td>4.818883</td>\n",
       "      <td>False</td>\n",
       "      <td>Ambient/Chill</td>\n",
       "      <td>NaN</td>\n",
       "      <td>Low</td>\n",
       "      <td>Low</td>\n",
       "      <td>Average</td>\n",
       "      <td>Very Sad</td>\n",
       "      <td>False</td>\n",
       "      <td>False</td>\n",
       "    </tr>\n",
       "  </tbody>\n",
       "</table>\n",
       "</div>"
      ],
      "text/plain": [
       "                 track_id                                            artists  \\\n",
       "0  0fROT4kK5oTm8xO8PX6EJF                                              Rilès   \n",
       "1  1hH0t381PIXmUVWyG1Vj3p                                       Brian Hyland   \n",
       "2  1B45DvGMoFWdbAEUH2qliG                                  Little Apple Band   \n",
       "3  73lXf5if6MWVWnsgXhK8bd                                  Little Apple Band   \n",
       "4  0jmz4aHEIBCRgrcV2xEkwB  Traditional;Sistine Chapel Choir;Massimo Palom...   \n",
       "\n",
       "                            album_name                   track_name  \\\n",
       "0                       !I'll Be Back!               !I'll Be Back!   \n",
       "1                    The Bashful Blond          \"A\" You're Adorable   \n",
       "2  The Favorite Songs Of Sesame Street            \"C\" IS FOR COOKIE   \n",
       "3            Sesame Street and Friends            \"C\" is for Cookie   \n",
       "4                  Classical Christmas  \"Christe, Redemptor omnium\"   \n",
       "\n",
       "   duration_min  explicit    track_genre popularity_cat danceability_cat  \\\n",
       "0      2.975550      True    World Music         Medium             High   \n",
       "1      2.528000     False           Rock         Medium             High   \n",
       "2      1.405083     False       Children         Medium           Medium   \n",
       "3      1.444583     False       Children            Low             High   \n",
       "4      4.818883     False  Ambient/Chill            NaN              Low   \n",
       "\n",
       "  energy_cat duration_cat valence_cat  is_loud  is_live  \n",
       "0     Medium        Short       Happy    False    False  \n",
       "1     Medium        Short  Very Happy    False    False  \n",
       "2       High   Very Short  Very Happy    False    False  \n",
       "3     Medium   Very Short       Happy    False    False  \n",
       "4        Low      Average    Very Sad    False    False  "
      ]
     },
     "execution_count": 38,
     "metadata": {},
     "output_type": "execute_result"
    }
   ],
   "source": [
    "spotify_df.head()"
   ]
  },
  {
   "cell_type": "code",
   "execution_count": 41,
   "id": "076954d1",
   "metadata": {},
   "outputs": [
    {
     "data": {
      "text/plain": [
       "(81343, 14)"
      ]
     },
     "execution_count": 41,
     "metadata": {},
     "output_type": "execute_result"
    }
   ],
   "source": [
    "spotify_df.shape"
   ]
  },
  {
   "cell_type": "markdown",
   "id": "eeebe569",
   "metadata": {},
   "source": [
    "## **Analysis**"
   ]
  },
  {
   "cell_type": "markdown",
   "id": "22a461a4",
   "metadata": {},
   "source": [
    "#### **_Characteristics Distribution_**\n",
    "\n",
    "🏷️ **_Popularity Distribution_**\n",
    "\n",
    "Most of the songs are of average popularity, which is typical of large music catalogs where few songs are big hits.\n",
    "\n",
    "🪩 **_Danceability Distribution_**\n",
    "\n",
    "A large part of the catalog is relatively danceable, suggesting that there are many songs intended to be enjoyed with rhythm.\n",
    "\n",
    "✨ **_Energy Distribution_**\n",
    "\n",
    "The dataset has a tendency towards high-energy songs, which may be related to pop, electronic or rock music.\n",
    "\n",
    "🎵 **_Duration Distribution_**\n",
    "\n",
    "It matches the usual commercial song structure (~2-4 minutes).\n",
    "\n",
    "🎶 **_Valence Distribution_**\n",
    "\n",
    "There is emotional variety in the songs, but songs that convey a more serious or neutral energy are slightly predominant.\n",
    "\n",
    "🎵 **_Explicit Distribution_**\n",
    "\n",
    "The catalog is mostly suitable for all audiences, but includes a fair amount of explicit content.\n",
    "\n",
    "📣 **_Loudness Distribution_**\n",
    "\n",
    "There is variety in the volume dynamics, although the more moderate songs in sound intensity predominate.\n",
    "\n",
    "🎤 **_Liveness Distribution_**\n",
    "\n",
    "The dataset is mainly composed of studio recordings."
   ]
  },
  {
   "cell_type": "code",
   "execution_count": 51,
   "id": "2d794470",
   "metadata": {},
   "outputs": [
    {
     "data": {
      "image/png": "[encoded data removed]",
      "text/plain": [
       "<Figure size 1500x1200 with 8 Axes>"
      ]
     },
     "metadata": {},
     "output_type": "display_data"
    }
   ],
   "source": [
    "cat_cols = ['popularity_cat', 'danceability_cat', 'energy_cat', \n",
    "            'duration_cat', 'valence_cat', 'explicit', 'is_loud', 'is_live']\n",
    "\n",
    "plt.figure(figsize=(15, 12))\n",
    "for i, col in enumerate(cat_cols, 1):\n",
    "    plt.subplot(3, 3, i)\n",
    "    spotify_df[col].value_counts().plot(kind='bar' if spotify_df[col].nunique() > 2 else 'pie')\n",
    "    plt.title(f'{col} Distribution')\n",
    "    plt.xticks(rotation=45)\n",
    "plt.tight_layout()\n",
    "plt.show()"
   ]
  },
  {
   "cell_type": "markdown",
   "id": "ca02be62",
   "metadata": {},
   "source": [
    "#### **_Genres with the highest % of High Danceability & Energy Songs_**\n",
    "\n",
    "- Genres traditionally associated with dancefloor or celebration music (Party, Disco, House, Techno) dominate this ranking.\n",
    "\n",
    "- Even more traditional genres such as Latin or fusion such as Reggae/Dancehall maintain a good proportion, but not as high as electronic."
   ]
  },
  {
   "cell_type": "code",
   "execution_count": 53,
   "id": "70e9125a",
   "metadata": {},
   "outputs": [
    {
     "data": {
      "image/png": "[encoded data removed]",
      "text/plain": [
       "<Figure size 640x480 with 1 Axes>"
      ]
     },
     "metadata": {},
     "output_type": "display_data"
    }
   ],
   "source": [
    "genre_dance_energy = spotify_df.groupby('track_genre').apply(\n",
    "    lambda x: ((x['danceability_cat'] == 'High') & \n",
    "               (x['energy_cat'] == 'High')).mean()\n",
    ").sort_values(ascending=False).head(10)\n",
    "\n",
    "genre_dance_energy.plot(kind='barh')\n",
    "plt.title('Genres with the highest % of High Danceability & Energy Songs')\n",
    "plt.xlabel('Proportion')\n",
    "plt.show()"
   ]
  },
  {
   "cell_type": "markdown",
   "id": "b92aa5e3",
   "metadata": {},
   "source": [
    "#### **_Genres with the Longest Average Duration (min)_**\n",
    "\n",
    "- The longest duration tends to coincide with genres:\n",
    "\n",
    "    -  Designed for the dance floor (Techno, House).\n",
    "\n",
    "    - Instrumental or narrative (Jazz, Folk, World Music).\n",
    "\n",
    "- Techno stands out a lot, almost 2 minutes above the second place."
   ]
  },
  {
   "cell_type": "code",
   "execution_count": 54,
   "id": "f9fea177",
   "metadata": {},
   "outputs": [
    {
     "data": {
      "image/png": "[encoded data removed]",
      "text/plain": [
       "<Figure size 640x480 with 1 Axes>"
      ]
     },
     "metadata": {},
     "output_type": "display_data"
    }
   ],
   "source": [
    "duration_by_genre = spotify_df.groupby('track_genre')['duration_min'].agg(\n",
    "    ['mean', 'count']).sort_values('mean', ascending=False)\n",
    "\n",
    "duration_by_genre = duration_by_genre[duration_by_genre['count'] > 10]\n",
    "\n",
    "duration_by_genre['mean'].head(10).plot(kind='barh')\n",
    "plt.title('Genres with the Longest Average Duration (min)')\n",
    "plt.xlabel('Average duration in minutes')\n",
    "plt.show()"
   ]
  },
  {
   "cell_type": "markdown",
   "id": "bfeafb2f",
   "metadata": {},
   "source": [
    "#### **_Key Relationships by Popularity Category_**\n",
    "\n",
    "This graph shows how songs are distributed according to their duration in minutes (`duration_min`), differentiated by their popularity category (`popularity_cat`).\n",
    "\n",
    "- All categories tend to concentrate on short durations (between 2 and 5 minutes), this is expected for most commercial songs.\n",
    "\n",
    "- Songs of “Medium” popularity (probably the orange curve) have the highest peak density, i.e., the largest proportion of songs of this popularity are concentrated around ~3 minutes.\n",
    "\n",
    "- The low popularity and high popularity categories seem to follow similar patterns, but it is noticeable that:\n",
    "\n",
    "- Less popular songs are more spread out (there are some that extend into the extremes of duration, especially at longer durations).\n",
    "\n",
    "- Medium and high popularity songs are heavily concentrated in short durations, reinforcing the idea that more popular songs tend to be shorter and more easily consumed.\n",
    "\n",
    "- There is a small peak around 40 minutes, probably extended recordings, live albums, or podcasts, but these are not as common."
   ]
  },
  {
   "cell_type": "code",
   "execution_count": 55,
   "id": "4cc8b058",
   "metadata": {},
   "outputs": [
    {
     "data": {
      "image/png": "[encoded data removed]",
      "text/plain": [
       "<Figure size 590.736x400 with 2 Axes>"
      ]
     },
     "metadata": {},
     "output_type": "display_data"
    }
   ],
   "source": [
    "sns.pairplot(data=spotify_df.sample(1000), \n",
    "             vars=['duration_min'],\n",
    "             hue='popularity_cat', \n",
    "             plot_kws={'alpha':0.6},\n",
    "             height=4,\n",
    "             aspect=1.2)\n",
    "plt.suptitle('Key Relationships by Popularity Category', y=1.02)\n",
    "plt.show()"
   ]
  }
 ],
 "metadata": {
  "kernelspec": {
   "display_name": "venv",
   "language": "python",
   "name": "python3"
  },
  "language_info": {
   "codemirror_mode": {
    "name": "ipython",
    "version": 3
   },
   "file_extension": ".py",
   "mimetype": "text/x-python",
   "name": "python",
   "nbconvert_exporter": "python",
   "pygments_lexer": "ipython3",
   "version": "3.11.9"
  }
 },
 "nbformat": 4,
 "nbformat_minor": 5
}
