{
 "cells": [
  {
   "cell_type": "markdown",
   "metadata": {},
   "source": [
    "# **_002 - Exploratory Data Analysis of Grammy Data_**"
   ]
  },
  {
   "cell_type": "markdown",
   "metadata": {},
   "source": [
    "## **_Data Loading_**"
   ]
  },
  {
   "cell_type": "code",
   "execution_count": 1,
   "metadata": {},
   "outputs": [],
   "source": [
    "import os\n",
    "import json\n",
    "import pandas as pd\n",
    "from sqlalchemy import create_engine\n",
    "import matplotlib.pyplot as plt\n",
    "import seaborn as sns\n",
    "import re"
   ]
  },
  {
   "cell_type": "code",
   "execution_count": 2,
   "metadata": {},
   "outputs": [
    {
     "name": "stdout",
     "output_type": "stream",
     "text": [
      "c:\\Users\\natym\\Desktop\n"
     ]
    }
   ],
   "source": [
    "try:\n",
    "    os.chdir(\"../../Workshop_002\")\n",
    "except FileNotFoundError:\n",
    "    print(\"\"\"\n",
    "        FileNotFoundError - Puede que el directorio no exista o no estas ubicad@ en la ruta especificada.\n",
    "        \"\"\")\n",
    "os.chdir(\"..\")\n",
    "print(os.getcwd())"
   ]
  },
  {
   "cell_type": "code",
   "execution_count": 3,
   "metadata": {},
   "outputs": [],
   "source": [
    "with open(\"Workshop_002/credentials.json\", \"r\", encoding = \"utf-8\") as f:\n",
    "    credentials = json.load(f)\n",
    "\n",
    "db_host = credentials[\"db_host\"]\n",
    "db_name = credentials[\"db_name\"]\n",
    "db_user = credentials[\"db_user\"]\n",
    "db_password = credentials[\"db_password\"]\n",
    "\n",
    "db_engine = create_engine(f\"postgresql://{db_user}:{db_password}@{db_host}:5432/{db_name}\")"
   ]
  },
  {
   "cell_type": "code",
   "execution_count": 4,
   "metadata": {},
   "outputs": [
    {
     "data": {
      "text/html": [
       "<div>\n",
       "<style scoped>\n",
       "    .dataframe tbody tr th:only-of-type {\n",
       "        vertical-align: middle;\n",
       "    }\n",
       "\n",
       "    .dataframe tbody tr th {\n",
       "        vertical-align: top;\n",
       "    }\n",
       "\n",
       "    .dataframe thead th {\n",
       "        text-align: right;\n",
       "    }\n",
       "</style>\n",
       "<table border=\"1\" class=\"dataframe\">\n",
       "  <thead>\n",
       "    <tr style=\"text-align: right;\">\n",
       "      <th></th>\n",
       "      <th>year</th>\n",
       "      <th>title</th>\n",
       "      <th>published_at</th>\n",
       "      <th>updated_at</th>\n",
       "      <th>category</th>\n",
       "      <th>nominee</th>\n",
       "      <th>artist</th>\n",
       "      <th>workers</th>\n",
       "      <th>img</th>\n",
       "      <th>winner</th>\n",
       "    </tr>\n",
       "  </thead>\n",
       "  <tbody>\n",
       "    <tr>\n",
       "      <th>0</th>\n",
       "      <td>2019</td>\n",
       "      <td>62nd Annual GRAMMY Awards  (2019)</td>\n",
       "      <td>2020-05-19T05:10:28-07:00</td>\n",
       "      <td>2020-05-19T05:10:28-07:00</td>\n",
       "      <td>Record Of The Year</td>\n",
       "      <td>Bad Guy</td>\n",
       "      <td>Billie Eilish</td>\n",
       "      <td>Finneas O'Connell, producer; Rob Kinelski &amp; Fi...</td>\n",
       "      <td>https://www.grammy.com/sites/com/files/styles/...</td>\n",
       "      <td>True</td>\n",
       "    </tr>\n",
       "    <tr>\n",
       "      <th>1</th>\n",
       "      <td>2019</td>\n",
       "      <td>62nd Annual GRAMMY Awards  (2019)</td>\n",
       "      <td>2020-05-19T05:10:28-07:00</td>\n",
       "      <td>2020-05-19T05:10:28-07:00</td>\n",
       "      <td>Record Of The Year</td>\n",
       "      <td>Hey, Ma</td>\n",
       "      <td>Bon Iver</td>\n",
       "      <td>BJ Burton, Brad Cook, Chris Messina &amp; Justin V...</td>\n",
       "      <td>https://www.grammy.com/sites/com/files/styles/...</td>\n",
       "      <td>True</td>\n",
       "    </tr>\n",
       "    <tr>\n",
       "      <th>2</th>\n",
       "      <td>2019</td>\n",
       "      <td>62nd Annual GRAMMY Awards  (2019)</td>\n",
       "      <td>2020-05-19T05:10:28-07:00</td>\n",
       "      <td>2020-05-19T05:10:28-07:00</td>\n",
       "      <td>Record Of The Year</td>\n",
       "      <td>7 rings</td>\n",
       "      <td>Ariana Grande</td>\n",
       "      <td>Charles Anderson, Tommy Brown, Michael Foster ...</td>\n",
       "      <td>https://www.grammy.com/sites/com/files/styles/...</td>\n",
       "      <td>True</td>\n",
       "    </tr>\n",
       "    <tr>\n",
       "      <th>3</th>\n",
       "      <td>2019</td>\n",
       "      <td>62nd Annual GRAMMY Awards  (2019)</td>\n",
       "      <td>2020-05-19T05:10:28-07:00</td>\n",
       "      <td>2020-05-19T05:10:28-07:00</td>\n",
       "      <td>Record Of The Year</td>\n",
       "      <td>Hard Place</td>\n",
       "      <td>H.E.R.</td>\n",
       "      <td>Rodney “Darkchild” Jerkins, producer; Joseph H...</td>\n",
       "      <td>https://www.grammy.com/sites/com/files/styles/...</td>\n",
       "      <td>True</td>\n",
       "    </tr>\n",
       "    <tr>\n",
       "      <th>4</th>\n",
       "      <td>2019</td>\n",
       "      <td>62nd Annual GRAMMY Awards  (2019)</td>\n",
       "      <td>2020-05-19T05:10:28-07:00</td>\n",
       "      <td>2020-05-19T05:10:28-07:00</td>\n",
       "      <td>Record Of The Year</td>\n",
       "      <td>Talk</td>\n",
       "      <td>Khalid</td>\n",
       "      <td>Disclosure &amp; Denis Kosiak, producers; Ingmar C...</td>\n",
       "      <td>https://www.grammy.com/sites/com/files/styles/...</td>\n",
       "      <td>True</td>\n",
       "    </tr>\n",
       "  </tbody>\n",
       "</table>\n",
       "</div>"
      ],
      "text/plain": [
       "   year                              title               published_at  \\\n",
       "0  2019  62nd Annual GRAMMY Awards  (2019)  2020-05-19T05:10:28-07:00   \n",
       "1  2019  62nd Annual GRAMMY Awards  (2019)  2020-05-19T05:10:28-07:00   \n",
       "2  2019  62nd Annual GRAMMY Awards  (2019)  2020-05-19T05:10:28-07:00   \n",
       "3  2019  62nd Annual GRAMMY Awards  (2019)  2020-05-19T05:10:28-07:00   \n",
       "4  2019  62nd Annual GRAMMY Awards  (2019)  2020-05-19T05:10:28-07:00   \n",
       "\n",
       "                  updated_at            category     nominee         artist  \\\n",
       "0  2020-05-19T05:10:28-07:00  Record Of The Year     Bad Guy  Billie Eilish   \n",
       "1  2020-05-19T05:10:28-07:00  Record Of The Year     Hey, Ma       Bon Iver   \n",
       "2  2020-05-19T05:10:28-07:00  Record Of The Year     7 rings  Ariana Grande   \n",
       "3  2020-05-19T05:10:28-07:00  Record Of The Year  Hard Place         H.E.R.   \n",
       "4  2020-05-19T05:10:28-07:00  Record Of The Year        Talk         Khalid   \n",
       "\n",
       "                                             workers  \\\n",
       "0  Finneas O'Connell, producer; Rob Kinelski & Fi...   \n",
       "1  BJ Burton, Brad Cook, Chris Messina & Justin V...   \n",
       "2  Charles Anderson, Tommy Brown, Michael Foster ...   \n",
       "3  Rodney “Darkchild” Jerkins, producer; Joseph H...   \n",
       "4  Disclosure & Denis Kosiak, producers; Ingmar C...   \n",
       "\n",
       "                                                 img  winner  \n",
       "0  https://www.grammy.com/sites/com/files/styles/...    True  \n",
       "1  https://www.grammy.com/sites/com/files/styles/...    True  \n",
       "2  https://www.grammy.com/sites/com/files/styles/...    True  \n",
       "3  https://www.grammy.com/sites/com/files/styles/...    True  \n",
       "4  https://www.grammy.com/sites/com/files/styles/...    True  "
      ]
     },
     "execution_count": 4,
     "metadata": {},
     "output_type": "execute_result"
    }
   ],
   "source": [
    "query = \"SELECT * FROM grammys_raw_data;\"\n",
    "grammy_df = pd.read_sql(query, db_engine)\n",
    "grammy_df.head()"
   ]
  },
  {
   "cell_type": "markdown",
   "metadata": {},
   "source": [
    "## **_Dataset information_**"
   ]
  },
  {
   "cell_type": "code",
   "execution_count": 5,
   "metadata": {},
   "outputs": [
    {
     "data": {
      "text/plain": [
       "(4810, 10)"
      ]
     },
     "execution_count": 5,
     "metadata": {},
     "output_type": "execute_result"
    }
   ],
   "source": [
    "grammy_df.shape"
   ]
  },
  {
   "cell_type": "code",
   "execution_count": 6,
   "metadata": {},
   "outputs": [
    {
     "name": "stdout",
     "output_type": "stream",
     "text": [
      "<class 'pandas.core.frame.DataFrame'>\n",
      "RangeIndex: 4810 entries, 0 to 4809\n",
      "Data columns (total 10 columns):\n",
      " #   Column        Non-Null Count  Dtype \n",
      "---  ------        --------------  ----- \n",
      " 0   year          4810 non-null   int64 \n",
      " 1   title         4810 non-null   object\n",
      " 2   published_at  4810 non-null   object\n",
      " 3   updated_at    4810 non-null   object\n",
      " 4   category      4810 non-null   object\n",
      " 5   nominee       4804 non-null   object\n",
      " 6   artist        2970 non-null   object\n",
      " 7   workers       2620 non-null   object\n",
      " 8   img           3443 non-null   object\n",
      " 9   winner        4810 non-null   bool  \n",
      "dtypes: bool(1), int64(1), object(8)\n",
      "memory usage: 343.0+ KB\n"
     ]
    }
   ],
   "source": [
    "grammy_df.info()"
   ]
  },
  {
   "cell_type": "code",
   "execution_count": 7,
   "metadata": {},
   "outputs": [
    {
     "data": {
      "text/plain": [
       "year              62\n",
       "title             62\n",
       "published_at       4\n",
       "updated_at        10\n",
       "category         638\n",
       "nominee         4131\n",
       "artist          1658\n",
       "workers         2366\n",
       "img             1463\n",
       "winner             1\n",
       "dtype: int64"
      ]
     },
     "execution_count": 7,
     "metadata": {},
     "output_type": "execute_result"
    }
   ],
   "source": [
    "grammy_df.nunique()"
   ]
  },
  {
   "cell_type": "code",
   "execution_count": 8,
   "metadata": {},
   "outputs": [
    {
     "data": {
      "text/html": [
       "<div>\n",
       "<style scoped>\n",
       "    .dataframe tbody tr th:only-of-type {\n",
       "        vertical-align: middle;\n",
       "    }\n",
       "\n",
       "    .dataframe tbody tr th {\n",
       "        vertical-align: top;\n",
       "    }\n",
       "\n",
       "    .dataframe thead th {\n",
       "        text-align: right;\n",
       "    }\n",
       "</style>\n",
       "<table border=\"1\" class=\"dataframe\">\n",
       "  <thead>\n",
       "    <tr style=\"text-align: right;\">\n",
       "      <th></th>\n",
       "      <th>title</th>\n",
       "      <th>published_at</th>\n",
       "      <th>updated_at</th>\n",
       "      <th>category</th>\n",
       "      <th>nominee</th>\n",
       "      <th>artist</th>\n",
       "      <th>workers</th>\n",
       "      <th>img</th>\n",
       "    </tr>\n",
       "  </thead>\n",
       "  <tbody>\n",
       "    <tr>\n",
       "      <th>count</th>\n",
       "      <td>4810</td>\n",
       "      <td>4810</td>\n",
       "      <td>4810</td>\n",
       "      <td>4810</td>\n",
       "      <td>4804</td>\n",
       "      <td>2970</td>\n",
       "      <td>2620</td>\n",
       "      <td>3443</td>\n",
       "    </tr>\n",
       "    <tr>\n",
       "      <th>unique</th>\n",
       "      <td>62</td>\n",
       "      <td>4</td>\n",
       "      <td>10</td>\n",
       "      <td>638</td>\n",
       "      <td>4131</td>\n",
       "      <td>1658</td>\n",
       "      <td>2366</td>\n",
       "      <td>1463</td>\n",
       "    </tr>\n",
       "    <tr>\n",
       "      <th>top</th>\n",
       "      <td>62nd Annual GRAMMY Awards  (2019)</td>\n",
       "      <td>2017-11-28T00:03:45-08:00</td>\n",
       "      <td>2019-09-10T01:08:19-07:00</td>\n",
       "      <td>Song Of The Year</td>\n",
       "      <td>Bridge Over Troubled Water</td>\n",
       "      <td>(Various Artists)</td>\n",
       "      <td>John Williams, composer (John Williams)</td>\n",
       "      <td>https://www.grammy.com/sites/com/files/styles/...</td>\n",
       "    </tr>\n",
       "    <tr>\n",
       "      <th>freq</th>\n",
       "      <td>433</td>\n",
       "      <td>4205</td>\n",
       "      <td>778</td>\n",
       "      <td>70</td>\n",
       "      <td>7</td>\n",
       "      <td>66</td>\n",
       "      <td>20</td>\n",
       "      <td>26</td>\n",
       "    </tr>\n",
       "  </tbody>\n",
       "</table>\n",
       "</div>"
      ],
      "text/plain": [
       "                                    title               published_at  \\\n",
       "count                                4810                       4810   \n",
       "unique                                 62                          4   \n",
       "top     62nd Annual GRAMMY Awards  (2019)  2017-11-28T00:03:45-08:00   \n",
       "freq                                  433                       4205   \n",
       "\n",
       "                       updated_at          category  \\\n",
       "count                        4810              4810   \n",
       "unique                         10               638   \n",
       "top     2019-09-10T01:08:19-07:00  Song Of The Year   \n",
       "freq                          778                70   \n",
       "\n",
       "                           nominee             artist  \\\n",
       "count                         4804               2970   \n",
       "unique                        4131               1658   \n",
       "top     Bridge Over Troubled Water  (Various Artists)   \n",
       "freq                             7                 66   \n",
       "\n",
       "                                        workers  \\\n",
       "count                                      2620   \n",
       "unique                                     2366   \n",
       "top     John Williams, composer (John Williams)   \n",
       "freq                                         20   \n",
       "\n",
       "                                                      img  \n",
       "count                                                3443  \n",
       "unique                                               1463  \n",
       "top     https://www.grammy.com/sites/com/files/styles/...  \n",
       "freq                                                   26  "
      ]
     },
     "execution_count": 8,
     "metadata": {},
     "output_type": "execute_result"
    }
   ],
   "source": [
    "grammy_df.describe(include='object')"
   ]
  },
  {
   "cell_type": "markdown",
   "metadata": {},
   "source": [
    "## **_Data cleaning_**"
   ]
  },
  {
   "cell_type": "markdown",
   "metadata": {},
   "source": [
    "#### **_Columns removal_**"
   ]
  },
  {
   "cell_type": "markdown",
   "metadata": {},
   "source": [
    "In this case the columns \"published_at\", \"updated_at\" and \"img\" aren't useful for the analysis, for this reason they will be eliminated. "
   ]
  },
  {
   "cell_type": "code",
   "execution_count": 9,
   "metadata": {},
   "outputs": [
    {
     "data": {
      "text/html": [
       "<div>\n",
       "<style scoped>\n",
       "    .dataframe tbody tr th:only-of-type {\n",
       "        vertical-align: middle;\n",
       "    }\n",
       "\n",
       "    .dataframe tbody tr th {\n",
       "        vertical-align: top;\n",
       "    }\n",
       "\n",
       "    .dataframe thead th {\n",
       "        text-align: right;\n",
       "    }\n",
       "</style>\n",
       "<table border=\"1\" class=\"dataframe\">\n",
       "  <thead>\n",
       "    <tr style=\"text-align: right;\">\n",
       "      <th></th>\n",
       "      <th>year</th>\n",
       "      <th>title</th>\n",
       "      <th>category</th>\n",
       "      <th>nominee</th>\n",
       "      <th>artist</th>\n",
       "      <th>workers</th>\n",
       "      <th>winner</th>\n",
       "    </tr>\n",
       "  </thead>\n",
       "  <tbody>\n",
       "    <tr>\n",
       "      <th>0</th>\n",
       "      <td>2019</td>\n",
       "      <td>62nd Annual GRAMMY Awards  (2019)</td>\n",
       "      <td>Record Of The Year</td>\n",
       "      <td>Bad Guy</td>\n",
       "      <td>Billie Eilish</td>\n",
       "      <td>Finneas O'Connell, producer; Rob Kinelski &amp; Fi...</td>\n",
       "      <td>True</td>\n",
       "    </tr>\n",
       "    <tr>\n",
       "      <th>1</th>\n",
       "      <td>2019</td>\n",
       "      <td>62nd Annual GRAMMY Awards  (2019)</td>\n",
       "      <td>Record Of The Year</td>\n",
       "      <td>Hey, Ma</td>\n",
       "      <td>Bon Iver</td>\n",
       "      <td>BJ Burton, Brad Cook, Chris Messina &amp; Justin V...</td>\n",
       "      <td>True</td>\n",
       "    </tr>\n",
       "    <tr>\n",
       "      <th>2</th>\n",
       "      <td>2019</td>\n",
       "      <td>62nd Annual GRAMMY Awards  (2019)</td>\n",
       "      <td>Record Of The Year</td>\n",
       "      <td>7 rings</td>\n",
       "      <td>Ariana Grande</td>\n",
       "      <td>Charles Anderson, Tommy Brown, Michael Foster ...</td>\n",
       "      <td>True</td>\n",
       "    </tr>\n",
       "    <tr>\n",
       "      <th>3</th>\n",
       "      <td>2019</td>\n",
       "      <td>62nd Annual GRAMMY Awards  (2019)</td>\n",
       "      <td>Record Of The Year</td>\n",
       "      <td>Hard Place</td>\n",
       "      <td>H.E.R.</td>\n",
       "      <td>Rodney “Darkchild” Jerkins, producer; Joseph H...</td>\n",
       "      <td>True</td>\n",
       "    </tr>\n",
       "    <tr>\n",
       "      <th>4</th>\n",
       "      <td>2019</td>\n",
       "      <td>62nd Annual GRAMMY Awards  (2019)</td>\n",
       "      <td>Record Of The Year</td>\n",
       "      <td>Talk</td>\n",
       "      <td>Khalid</td>\n",
       "      <td>Disclosure &amp; Denis Kosiak, producers; Ingmar C...</td>\n",
       "      <td>True</td>\n",
       "    </tr>\n",
       "  </tbody>\n",
       "</table>\n",
       "</div>"
      ],
      "text/plain": [
       "   year                              title            category     nominee  \\\n",
       "0  2019  62nd Annual GRAMMY Awards  (2019)  Record Of The Year     Bad Guy   \n",
       "1  2019  62nd Annual GRAMMY Awards  (2019)  Record Of The Year     Hey, Ma   \n",
       "2  2019  62nd Annual GRAMMY Awards  (2019)  Record Of The Year     7 rings   \n",
       "3  2019  62nd Annual GRAMMY Awards  (2019)  Record Of The Year  Hard Place   \n",
       "4  2019  62nd Annual GRAMMY Awards  (2019)  Record Of The Year        Talk   \n",
       "\n",
       "          artist                                            workers  winner  \n",
       "0  Billie Eilish  Finneas O'Connell, producer; Rob Kinelski & Fi...    True  \n",
       "1       Bon Iver  BJ Burton, Brad Cook, Chris Messina & Justin V...    True  \n",
       "2  Ariana Grande  Charles Anderson, Tommy Brown, Michael Foster ...    True  \n",
       "3         H.E.R.  Rodney “Darkchild” Jerkins, producer; Joseph H...    True  \n",
       "4         Khalid  Disclosure & Denis Kosiak, producers; Ingmar C...    True  "
      ]
     },
     "execution_count": 9,
     "metadata": {},
     "output_type": "execute_result"
    }
   ],
   "source": [
    "grammy_df = grammy_df.drop(['published_at', 'updated_at', 'img'], axis=1)\n",
    "grammy_df.head()"
   ]
  },
  {
   "cell_type": "markdown",
   "metadata": {},
   "source": [
    "#### **_Nulls Management_**"
   ]
  },
  {
   "cell_type": "code",
   "execution_count": 10,
   "metadata": {},
   "outputs": [
    {
     "data": {
      "text/plain": [
       "year           0\n",
       "title          0\n",
       "category       0\n",
       "nominee        6\n",
       "artist      1840\n",
       "workers     2190\n",
       "winner         0\n",
       "dtype: int64"
      ]
     },
     "execution_count": 10,
     "metadata": {},
     "output_type": "execute_result"
    }
   ],
   "source": [
    "grammy_df.isna().sum()"
   ]
  },
  {
   "cell_type": "markdown",
   "metadata": {},
   "source": [
    "_**Nulls in \"nominee\"**_"
   ]
  },
  {
   "cell_type": "markdown",
   "metadata": {},
   "source": [
    "We eliminate rows where there is no value in the `nominee` column, as these records do not provide relevant information to the analysis."
   ]
  },
  {
   "cell_type": "code",
   "execution_count": 11,
   "metadata": {},
   "outputs": [],
   "source": [
    "grammy_df = grammy_df.dropna(subset=['nominee'])"
   ]
  },
  {
   "cell_type": "markdown",
   "metadata": {},
   "source": [
    "_**Nulls in \"artist\"**_"
   ]
  },
  {
   "cell_type": "markdown",
   "metadata": {},
   "source": [
    "We identify which categories have both fields (`artist and workers`) empty to evaluate what to do with them. And as we can see the nominee is the missing value in artist in the majority of the cases. "
   ]
  },
  {
   "cell_type": "code",
   "execution_count": 12,
   "metadata": {},
   "outputs": [
    {
     "data": {
      "text/html": [
       "<div>\n",
       "<style scoped>\n",
       "    .dataframe tbody tr th:only-of-type {\n",
       "        vertical-align: middle;\n",
       "    }\n",
       "\n",
       "    .dataframe tbody tr th {\n",
       "        vertical-align: top;\n",
       "    }\n",
       "\n",
       "    .dataframe thead th {\n",
       "        text-align: right;\n",
       "    }\n",
       "</style>\n",
       "<table border=\"1\" class=\"dataframe\">\n",
       "  <thead>\n",
       "    <tr style=\"text-align: right;\">\n",
       "      <th></th>\n",
       "      <th>year</th>\n",
       "      <th>title</th>\n",
       "      <th>category</th>\n",
       "      <th>nominee</th>\n",
       "      <th>artist</th>\n",
       "      <th>workers</th>\n",
       "      <th>winner</th>\n",
       "    </tr>\n",
       "  </thead>\n",
       "  <tbody>\n",
       "    <tr>\n",
       "      <th>24</th>\n",
       "      <td>2019</td>\n",
       "      <td>62nd Annual GRAMMY Awards  (2019)</td>\n",
       "      <td>Best New Artist</td>\n",
       "      <td>Billie Eilish</td>\n",
       "      <td>None</td>\n",
       "      <td>None</td>\n",
       "      <td>True</td>\n",
       "    </tr>\n",
       "    <tr>\n",
       "      <th>25</th>\n",
       "      <td>2019</td>\n",
       "      <td>62nd Annual GRAMMY Awards  (2019)</td>\n",
       "      <td>Best New Artist</td>\n",
       "      <td>Black Pumas</td>\n",
       "      <td>None</td>\n",
       "      <td>None</td>\n",
       "      <td>True</td>\n",
       "    </tr>\n",
       "    <tr>\n",
       "      <th>26</th>\n",
       "      <td>2019</td>\n",
       "      <td>62nd Annual GRAMMY Awards  (2019)</td>\n",
       "      <td>Best New Artist</td>\n",
       "      <td>Lil Nas X</td>\n",
       "      <td>None</td>\n",
       "      <td>None</td>\n",
       "      <td>True</td>\n",
       "    </tr>\n",
       "    <tr>\n",
       "      <th>27</th>\n",
       "      <td>2019</td>\n",
       "      <td>62nd Annual GRAMMY Awards  (2019)</td>\n",
       "      <td>Best New Artist</td>\n",
       "      <td>Lizzo</td>\n",
       "      <td>None</td>\n",
       "      <td>None</td>\n",
       "      <td>True</td>\n",
       "    </tr>\n",
       "    <tr>\n",
       "      <th>28</th>\n",
       "      <td>2019</td>\n",
       "      <td>62nd Annual GRAMMY Awards  (2019)</td>\n",
       "      <td>Best New Artist</td>\n",
       "      <td>Maggie Rogers</td>\n",
       "      <td>None</td>\n",
       "      <td>None</td>\n",
       "      <td>True</td>\n",
       "    </tr>\n",
       "    <tr>\n",
       "      <th>...</th>\n",
       "      <td>...</td>\n",
       "      <td>...</td>\n",
       "      <td>...</td>\n",
       "      <td>...</td>\n",
       "      <td>...</td>\n",
       "      <td>...</td>\n",
       "      <td>...</td>\n",
       "    </tr>\n",
       "    <tr>\n",
       "      <th>4699</th>\n",
       "      <td>1961</td>\n",
       "      <td>4th Annual GRAMMY Awards  (1961)</td>\n",
       "      <td>Best New Artist Of 1961</td>\n",
       "      <td>Peter Nero</td>\n",
       "      <td>None</td>\n",
       "      <td>None</td>\n",
       "      <td>True</td>\n",
       "    </tr>\n",
       "    <tr>\n",
       "      <th>4745</th>\n",
       "      <td>1960</td>\n",
       "      <td>3rd Annual GRAMMY Awards  (1960)</td>\n",
       "      <td>Best New Artist Of 1960</td>\n",
       "      <td>Bob Newhart</td>\n",
       "      <td>None</td>\n",
       "      <td>None</td>\n",
       "      <td>True</td>\n",
       "    </tr>\n",
       "    <tr>\n",
       "      <th>4762</th>\n",
       "      <td>1959</td>\n",
       "      <td>2nd Annual GRAMMY Awards  (1959)</td>\n",
       "      <td>Best Classical Performance - Vocal Soloist (Wi...</td>\n",
       "      <td>Bjoerling In Opera</td>\n",
       "      <td>None</td>\n",
       "      <td>None</td>\n",
       "      <td>True</td>\n",
       "    </tr>\n",
       "    <tr>\n",
       "      <th>4781</th>\n",
       "      <td>1959</td>\n",
       "      <td>2nd Annual GRAMMY Awards  (1959)</td>\n",
       "      <td>Best New Artist Of 1959</td>\n",
       "      <td>Bobby Darin</td>\n",
       "      <td>None</td>\n",
       "      <td>None</td>\n",
       "      <td>True</td>\n",
       "    </tr>\n",
       "    <tr>\n",
       "      <th>4808</th>\n",
       "      <td>1958</td>\n",
       "      <td>1st Annual GRAMMY Awards  (1958)</td>\n",
       "      <td>Best Classical Performance - Vocal Soloist (Wi...</td>\n",
       "      <td>Operatic Recital</td>\n",
       "      <td>None</td>\n",
       "      <td>None</td>\n",
       "      <td>True</td>\n",
       "    </tr>\n",
       "  </tbody>\n",
       "</table>\n",
       "<p>180 rows × 7 columns</p>\n",
       "</div>"
      ],
      "text/plain": [
       "      year                              title  \\\n",
       "24    2019  62nd Annual GRAMMY Awards  (2019)   \n",
       "25    2019  62nd Annual GRAMMY Awards  (2019)   \n",
       "26    2019  62nd Annual GRAMMY Awards  (2019)   \n",
       "27    2019  62nd Annual GRAMMY Awards  (2019)   \n",
       "28    2019  62nd Annual GRAMMY Awards  (2019)   \n",
       "...    ...                                ...   \n",
       "4699  1961   4th Annual GRAMMY Awards  (1961)   \n",
       "4745  1960   3rd Annual GRAMMY Awards  (1960)   \n",
       "4762  1959   2nd Annual GRAMMY Awards  (1959)   \n",
       "4781  1959   2nd Annual GRAMMY Awards  (1959)   \n",
       "4808  1958   1st Annual GRAMMY Awards  (1958)   \n",
       "\n",
       "                                               category             nominee  \\\n",
       "24                                      Best New Artist       Billie Eilish   \n",
       "25                                      Best New Artist         Black Pumas   \n",
       "26                                      Best New Artist           Lil Nas X   \n",
       "27                                      Best New Artist               Lizzo   \n",
       "28                                      Best New Artist       Maggie Rogers   \n",
       "...                                                 ...                 ...   \n",
       "4699                            Best New Artist Of 1961          Peter Nero   \n",
       "4745                            Best New Artist Of 1960         Bob Newhart   \n",
       "4762  Best Classical Performance - Vocal Soloist (Wi...  Bjoerling In Opera   \n",
       "4781                            Best New Artist Of 1959         Bobby Darin   \n",
       "4808  Best Classical Performance - Vocal Soloist (Wi...    Operatic Recital   \n",
       "\n",
       "     artist workers  winner  \n",
       "24     None    None    True  \n",
       "25     None    None    True  \n",
       "26     None    None    True  \n",
       "27     None    None    True  \n",
       "28     None    None    True  \n",
       "...     ...     ...     ...  \n",
       "4699   None    None    True  \n",
       "4745   None    None    True  \n",
       "4762   None    None    True  \n",
       "4781   None    None    True  \n",
       "4808   None    None    True  \n",
       "\n",
       "[180 rows x 7 columns]"
      ]
     },
     "execution_count": 12,
     "metadata": {},
     "output_type": "execute_result"
    }
   ],
   "source": [
    "grammy_df[(grammy_df['artist'].isnull()) & (grammy_df['workers'].isnull())]"
   ]
  },
  {
   "cell_type": "code",
   "execution_count": 13,
   "metadata": {},
   "outputs": [
    {
     "name": "stdout",
     "output_type": "stream",
     "text": [
      "['Best New Artist' 'Producer Of The Year, Non-Classical'\n",
      " 'Producer Of The Year, Classical'\n",
      " 'Best Small Ensemble Performance (With Or Without Conductor)'\n",
      " 'Best Classical Vocal Performance' 'Producer Of The Year'\n",
      " 'Classical Producer Of The Year' 'Best Producer Of The Year'\n",
      " 'Producer Of The Year (Non-Classical)'\n",
      " 'Producer Of The Year (Non Classical)' 'Best Classical Vocal Soloist'\n",
      " 'Producer Of The Year, (Non Classical)'\n",
      " 'Best Classical Vocal Soloist Performance'\n",
      " 'Best Classical Performance - Instrumental Soloist Or Soloists (With Or Without Orchestra)'\n",
      " 'Best New Classical Artist' 'Best New Artist Of The Year'\n",
      " 'Best Classical Performance - Vocal Soloist'\n",
      " 'Best Performance - Instrumental Soloist Or Soloists (With Or Without Orchestra)'\n",
      " 'Most Promising New Classical Recording Artist' 'Best New Artist Of 1964'\n",
      " 'Best New Artist Of 1963' 'Best New Artist Of 1962'\n",
      " 'Best New Artist Of 1961' 'Best New Artist Of 1960'\n",
      " 'Best Classical Performance - Vocal Soloist (With Or Without Orchestra)'\n",
      " 'Best New Artist Of 1959']\n"
     ]
    }
   ],
   "source": [
    "null_categories = grammy_df[(grammy_df['artist'].isnull()) & (grammy_df['workers'].isnull())]['category'].unique()\n",
    "print(null_categories)"
   ]
  },
  {
   "cell_type": "markdown",
   "metadata": {},
   "source": [
    "We filter out the categories that do not add value to the analysis, since they have empty `artist` and `workers`, and the values in nominee has nothing to do with artists. "
   ]
  },
  {
   "cell_type": "code",
   "execution_count": 14,
   "metadata": {},
   "outputs": [
    {
     "data": {
      "text/html": [
       "<div>\n",
       "<style scoped>\n",
       "    .dataframe tbody tr th:only-of-type {\n",
       "        vertical-align: middle;\n",
       "    }\n",
       "\n",
       "    .dataframe tbody tr th {\n",
       "        vertical-align: top;\n",
       "    }\n",
       "\n",
       "    .dataframe thead th {\n",
       "        text-align: right;\n",
       "    }\n",
       "</style>\n",
       "<table border=\"1\" class=\"dataframe\">\n",
       "  <thead>\n",
       "    <tr style=\"text-align: right;\">\n",
       "      <th></th>\n",
       "      <th>year</th>\n",
       "      <th>title</th>\n",
       "      <th>category</th>\n",
       "      <th>nominee</th>\n",
       "      <th>artist</th>\n",
       "      <th>workers</th>\n",
       "      <th>winner</th>\n",
       "    </tr>\n",
       "  </thead>\n",
       "  <tbody>\n",
       "    <tr>\n",
       "      <th>2571</th>\n",
       "      <td>1997</td>\n",
       "      <td>40th Annual GRAMMY Awards  (1997)</td>\n",
       "      <td>Best Classical Vocal Performance</td>\n",
       "      <td>An Italian Songbook - Works Of Bellini, Donize...</td>\n",
       "      <td>None</td>\n",
       "      <td>None</td>\n",
       "      <td>True</td>\n",
       "    </tr>\n",
       "    <tr>\n",
       "      <th>2834</th>\n",
       "      <td>1994</td>\n",
       "      <td>37th Annual GRAMMY Awards  (1994)</td>\n",
       "      <td>Best Classical Vocal Performance</td>\n",
       "      <td>The Impatient Lover - Italian Songs By Beethov...</td>\n",
       "      <td>None</td>\n",
       "      <td>None</td>\n",
       "      <td>True</td>\n",
       "    </tr>\n",
       "    <tr>\n",
       "      <th>2915</th>\n",
       "      <td>1993</td>\n",
       "      <td>36th Annual GRAMMY Awards  (1993)</td>\n",
       "      <td>Best Classical Vocal Performance</td>\n",
       "      <td>The Art Of Arleen Auger (Works Of Larsen, Purc...</td>\n",
       "      <td>None</td>\n",
       "      <td>None</td>\n",
       "      <td>True</td>\n",
       "    </tr>\n",
       "    <tr>\n",
       "      <th>2999</th>\n",
       "      <td>1992</td>\n",
       "      <td>35th Annual GRAMMY Awards  (1992)</td>\n",
       "      <td>Best Classical Vocal Performance</td>\n",
       "      <td>Kathleen Battle At Carnegie Hall (Handel, Moza...</td>\n",
       "      <td>None</td>\n",
       "      <td>None</td>\n",
       "      <td>True</td>\n",
       "    </tr>\n",
       "    <tr>\n",
       "      <th>3374</th>\n",
       "      <td>1987</td>\n",
       "      <td>30th Annual GRAMMY Awards  (1987)</td>\n",
       "      <td>Best Classical Vocal Soloist Performance</td>\n",
       "      <td>Kathleen Battle - Salzburg Recital</td>\n",
       "      <td>None</td>\n",
       "      <td>None</td>\n",
       "      <td>True</td>\n",
       "    </tr>\n",
       "    <tr>\n",
       "      <th>3767</th>\n",
       "      <td>1972</td>\n",
       "      <td>15th Annual GRAMMY Awards  (1972)</td>\n",
       "      <td>Best Classical Vocal Soloist Performance</td>\n",
       "      <td>Brahms: Die Schone Magelone</td>\n",
       "      <td>None</td>\n",
       "      <td>None</td>\n",
       "      <td>True</td>\n",
       "    </tr>\n",
       "    <tr>\n",
       "      <th>3942</th>\n",
       "      <td>1978</td>\n",
       "      <td>21st Annual GRAMMY Awards  (1978)</td>\n",
       "      <td>Best Classical Vocal Soloist Performance</td>\n",
       "      <td>Luciano Pavarotti - Hits From Lincoln Center</td>\n",
       "      <td>None</td>\n",
       "      <td>None</td>\n",
       "      <td>True</td>\n",
       "    </tr>\n",
       "    <tr>\n",
       "      <th>4039</th>\n",
       "      <td>1976</td>\n",
       "      <td>19th Annual GRAMMY Awards  (1976)</td>\n",
       "      <td>Best Classical Vocal Soloist Performance</td>\n",
       "      <td>Herbert: Music Of Victor Herbert</td>\n",
       "      <td>None</td>\n",
       "      <td>None</td>\n",
       "      <td>True</td>\n",
       "    </tr>\n",
       "    <tr>\n",
       "      <th>4135</th>\n",
       "      <td>1974</td>\n",
       "      <td>17th Annual GRAMMY Awards  (1974)</td>\n",
       "      <td>Best Classical Vocal Soloist Performance</td>\n",
       "      <td>Leontyne Price Sings Richard Strauss</td>\n",
       "      <td>None</td>\n",
       "      <td>None</td>\n",
       "      <td>True</td>\n",
       "    </tr>\n",
       "    <tr>\n",
       "      <th>4178</th>\n",
       "      <td>1960</td>\n",
       "      <td>3rd Annual GRAMMY Awards  (1960)</td>\n",
       "      <td>Best Classical Performance - Vocal Soloist</td>\n",
       "      <td>A Program Of Song - Leontyne Price Recital</td>\n",
       "      <td>None</td>\n",
       "      <td>None</td>\n",
       "      <td>True</td>\n",
       "    </tr>\n",
       "    <tr>\n",
       "      <th>4273</th>\n",
       "      <td>1971</td>\n",
       "      <td>14th Annual GRAMMY Awards  (1971)</td>\n",
       "      <td>Best Classical Vocal Soloist Performance</td>\n",
       "      <td>Leontyne Price Sings Robert Schumann</td>\n",
       "      <td>None</td>\n",
       "      <td>None</td>\n",
       "      <td>True</td>\n",
       "    </tr>\n",
       "    <tr>\n",
       "      <th>4315</th>\n",
       "      <td>1970</td>\n",
       "      <td>13th Annual GRAMMY Awards  (1970)</td>\n",
       "      <td>Best Classical Vocal Soloist Performance</td>\n",
       "      <td>Schubert: Lieder</td>\n",
       "      <td>None</td>\n",
       "      <td>None</td>\n",
       "      <td>True</td>\n",
       "    </tr>\n",
       "  </tbody>\n",
       "</table>\n",
       "</div>"
      ],
      "text/plain": [
       "      year                              title  \\\n",
       "2571  1997  40th Annual GRAMMY Awards  (1997)   \n",
       "2834  1994  37th Annual GRAMMY Awards  (1994)   \n",
       "2915  1993  36th Annual GRAMMY Awards  (1993)   \n",
       "2999  1992  35th Annual GRAMMY Awards  (1992)   \n",
       "3374  1987  30th Annual GRAMMY Awards  (1987)   \n",
       "3767  1972  15th Annual GRAMMY Awards  (1972)   \n",
       "3942  1978  21st Annual GRAMMY Awards  (1978)   \n",
       "4039  1976  19th Annual GRAMMY Awards  (1976)   \n",
       "4135  1974  17th Annual GRAMMY Awards  (1974)   \n",
       "4178  1960   3rd Annual GRAMMY Awards  (1960)   \n",
       "4273  1971  14th Annual GRAMMY Awards  (1971)   \n",
       "4315  1970  13th Annual GRAMMY Awards  (1970)   \n",
       "\n",
       "                                        category  \\\n",
       "2571            Best Classical Vocal Performance   \n",
       "2834            Best Classical Vocal Performance   \n",
       "2915            Best Classical Vocal Performance   \n",
       "2999            Best Classical Vocal Performance   \n",
       "3374    Best Classical Vocal Soloist Performance   \n",
       "3767    Best Classical Vocal Soloist Performance   \n",
       "3942    Best Classical Vocal Soloist Performance   \n",
       "4039    Best Classical Vocal Soloist Performance   \n",
       "4135    Best Classical Vocal Soloist Performance   \n",
       "4178  Best Classical Performance - Vocal Soloist   \n",
       "4273    Best Classical Vocal Soloist Performance   \n",
       "4315    Best Classical Vocal Soloist Performance   \n",
       "\n",
       "                                                nominee artist workers  winner  \n",
       "2571  An Italian Songbook - Works Of Bellini, Donize...   None    None    True  \n",
       "2834  The Impatient Lover - Italian Songs By Beethov...   None    None    True  \n",
       "2915  The Art Of Arleen Auger (Works Of Larsen, Purc...   None    None    True  \n",
       "2999  Kathleen Battle At Carnegie Hall (Handel, Moza...   None    None    True  \n",
       "3374                 Kathleen Battle - Salzburg Recital   None    None    True  \n",
       "3767                        Brahms: Die Schone Magelone   None    None    True  \n",
       "3942       Luciano Pavarotti - Hits From Lincoln Center   None    None    True  \n",
       "4039                   Herbert: Music Of Victor Herbert   None    None    True  \n",
       "4135               Leontyne Price Sings Richard Strauss   None    None    True  \n",
       "4178         A Program Of Song - Leontyne Price Recital   None    None    True  \n",
       "4273               Leontyne Price Sings Robert Schumann   None    None    True  \n",
       "4315                                   Schubert: Lieder   None    None    True  "
      ]
     },
     "execution_count": 14,
     "metadata": {},
     "output_type": "execute_result"
    }
   ],
   "source": [
    "categories_non_useful = [\n",
    "    'Best Small Ensemble Performance (With or Without Conductor)',\n",
    "    'Best Classical Vocal Performance',\n",
    "    'Best Classical Vocal Soloist Performance',\n",
    "    'Best Classical Performance - Instrumental Soloist or Soloists (With or Without Orchestra)',\n",
    "    'Best Classical Performance - Vocal Soloist',\n",
    "    'Best Performance - Instrumental Soloist or Soloists (With or Without Orchestra)',\n",
    "    'Best Classical Performance - Vocal Soloist (With or Without Orchestra)'\n",
    "]\n",
    "\n",
    "filter = (\n",
    "    (grammy_df['artist'].isnull()) &\n",
    "    (grammy_df['workers'].isnull()) &\n",
    "    (grammy_df['category'].isin(categories_non_useful))\n",
    ")\n",
    "\n",
    "grammy_df[filter]"
   ]
  },
  {
   "cell_type": "code",
   "execution_count": 15,
   "metadata": {},
   "outputs": [
    {
     "name": "stdout",
     "output_type": "stream",
     "text": [
      "Número de filas a eliminar: 12\n"
     ]
    }
   ],
   "source": [
    "cantidad = grammy_df[filter].shape[0]\n",
    "print(f\"Número de filas a eliminar: {cantidad}\")"
   ]
  },
  {
   "cell_type": "markdown",
   "metadata": {},
   "source": [
    "We eliminate the rows of the previously identified non-useful categories."
   ]
  },
  {
   "cell_type": "code",
   "execution_count": 16,
   "metadata": {},
   "outputs": [],
   "source": [
    "grammy_df = grammy_df[~filter]"
   ]
  },
  {
   "cell_type": "markdown",
   "metadata": {},
   "source": [
    " We fill in the missing values in `artist` with the available data from the `nominee` column."
   ]
  },
  {
   "cell_type": "code",
   "execution_count": 17,
   "metadata": {},
   "outputs": [],
   "source": [
    "condition = grammy_df['artist'].isnull() & grammy_df['workers'].isnull()\n",
    "grammy_df.loc[condition, 'artist'] = grammy_df.loc[condition, 'nominee']"
   ]
  },
  {
   "cell_type": "code",
   "execution_count": 18,
   "metadata": {},
   "outputs": [
    {
     "data": {
      "text/html": [
       "<div>\n",
       "<style scoped>\n",
       "    .dataframe tbody tr th:only-of-type {\n",
       "        vertical-align: middle;\n",
       "    }\n",
       "\n",
       "    .dataframe tbody tr th {\n",
       "        vertical-align: top;\n",
       "    }\n",
       "\n",
       "    .dataframe thead th {\n",
       "        text-align: right;\n",
       "    }\n",
       "</style>\n",
       "<table border=\"1\" class=\"dataframe\">\n",
       "  <thead>\n",
       "    <tr style=\"text-align: right;\">\n",
       "      <th></th>\n",
       "      <th>year</th>\n",
       "      <th>title</th>\n",
       "      <th>category</th>\n",
       "      <th>nominee</th>\n",
       "      <th>artist</th>\n",
       "      <th>workers</th>\n",
       "      <th>winner</th>\n",
       "    </tr>\n",
       "  </thead>\n",
       "  <tbody>\n",
       "  </tbody>\n",
       "</table>\n",
       "</div>"
      ],
      "text/plain": [
       "Empty DataFrame\n",
       "Columns: [year, title, category, nominee, artist, workers, winner]\n",
       "Index: []"
      ]
     },
     "execution_count": 18,
     "metadata": {},
     "output_type": "execute_result"
    }
   ],
   "source": [
    "grammy_df[(grammy_df['artist'].isnull()) & (grammy_df['workers'].isnull())]"
   ]
  },
  {
   "cell_type": "markdown",
   "metadata": {},
   "source": [
    "Now, in the dataset you can see that the names of the artists are at the end in parenthesis in the data of the workers column. For that case, we apply a function that extracts the artist name from the `workers` column when `artist` is empty, using regular expressions."
   ]
  },
  {
   "cell_type": "code",
   "execution_count": 19,
   "metadata": {},
   "outputs": [],
   "source": [
    "\n",
    "def extract_artist(workers):\n",
    "    match = re.search(r'\\((.*?)\\)', workers)\n",
    "    if match:\n",
    "        return match.group(1)\n",
    "    return None\n",
    "\n",
    "grammy_df[\"artist\"] = (grammy_df.apply(lambda row:extract_artist(row[\"workers\"])\n",
    "        if pd.isna(row[\"artist\"])\n",
    "            else row[\"artist\"], axis=1))"
   ]
  },
  {
   "cell_type": "markdown",
   "metadata": {},
   "source": [
    "Finally, to finish filling the artist nulls, we define a function that maps the rows of the `workers` column and extracts the names in which the role is one related to artist (soloist, composer, conductor, artist)."
   ]
  },
  {
   "cell_type": "code",
   "execution_count": 20,
   "metadata": {},
   "outputs": [],
   "source": [
    "def extract_artist(workers):\n",
    "    if pd.isnull(workers):\n",
    "        return None\n",
    "    \n",
    "    rule = re.match(r\"([^,;]+), (soloist|composer|conductor|artist)\", workers)\n",
    "    if rule:\n",
    "        return rule.group(1).strip()\n",
    "    \n",
    "    rule = re.match(r\"(.+?(Featuring|&| and ).*?)(;|,|$)\", workers, re.IGNORECASE)\n",
    "    if rule:\n",
    "        return rule.group(1).strip()\n",
    "    \n",
    "    return workers.strip()\n",
    "\n",
    "grammy_df['artist'] = grammy_df['artist'].fillna(grammy_df['workers'].apply(extract_artist))"
   ]
  },
  {
   "cell_type": "markdown",
   "metadata": {},
   "source": [
    "We verify that the main columns no longer contain null values after cleaning."
   ]
  },
  {
   "cell_type": "code",
   "execution_count": 21,
   "metadata": {},
   "outputs": [
    {
     "data": {
      "text/plain": [
       "year           0\n",
       "title          0\n",
       "category       0\n",
       "nominee        0\n",
       "artist         0\n",
       "workers     2172\n",
       "winner         0\n",
       "dtype: int64"
      ]
     },
     "execution_count": 21,
     "metadata": {},
     "output_type": "execute_result"
    }
   ],
   "source": [
    "grammy_df.isna().sum()"
   ]
  },
  {
   "cell_type": "markdown",
   "metadata": {},
   "source": [
    "We check the number of occurrences for each unique value in the artist column for inconsistencies or necessary groupings."
   ]
  },
  {
   "cell_type": "code",
   "execution_count": 22,
   "metadata": {},
   "outputs": [
    {
     "data": {
      "text/plain": [
       "artist\n",
       "(Various Artists)                                                    66\n",
       "Various Artists                                                      43\n",
       "Chicago Symphony Orchestra                                           29\n",
       "John Williams                                                        24\n",
       "Henry Mancini                                                        22\n",
       "                                                                     ..\n",
       "Israel And New Breed                                                  1\n",
       "Aretha Franklin & Mary J. Blige (Featuring The Harlem Boys Choir)     1\n",
       "Paquito D'Rivera Quintet?                                             1\n",
       "Patti Austin                                                          1\n",
       "Roger Wagner, choir director                                          1\n",
       "Name: count, Length: 2486, dtype: int64"
      ]
     },
     "execution_count": 22,
     "metadata": {},
     "output_type": "execute_result"
    }
   ],
   "source": [
    "grammy_df['artist'].value_counts()"
   ]
  },
  {
   "cell_type": "markdown",
   "metadata": {},
   "source": [
    "We normalize the artist values, replacing '(Various Artists)' with 'Various Artists' to avoid semantic duplicates."
   ]
  },
  {
   "cell_type": "code",
   "execution_count": 23,
   "metadata": {},
   "outputs": [
    {
     "data": {
      "text/plain": [
       "year  title                              category                       nominee                                 artist                workers                                                                                  winner\n",
       "1958  1st Annual GRAMMY Awards  (1958)   Best Album Cover               Only The Lonely                         Frank Sinatra         Frank Sinatra, art director (Frank Sinatra)                                              True      1\n",
       "2009  52nd Annual GRAMMY Awards  (2009)  Best Norteño Album             Tu Noche Con...Los Tigres Del Norte     Los Tigres Del Norte  Los Tigres Del Norte, producers; Joseph Pope & Alfonso Rodenas, engineers/mixers         True      1\n",
       "                                         Best Historical Album          The Complete Chess Masters (1950-1967)  Little Walter         Andy McKaie, compilation producer; Erick Labson, mastering engineer (Little Walter)      True      1\n",
       "                                         Best Improvised Jazz Solo      Dancin' 4 Chicken                       Terence Blanchard     Terence Blanchard, soloist                                                               True      1\n",
       "                                         Best Instrumental Arrangement  West Side Story Medley                  Resonance Big Band    Bill Cunliffe, arranger (Resonance Big Band)                                             True      1\n",
       "                                                                                                                                                                                                                                        ..\n",
       "1994  37th Annual GRAMMY Awards  (1994)  Best Rock Song                 Streets Of Philadelphia                 Bruce Springsteen     Bruce Springsteen, songwriter (Bruce Springsteen)                                        True      1\n",
       "                                         Best Spoken Comedy Album       Live From Hell                          Sam Kinison           Sam Kinison, artist.                                                                     True      1\n",
       "                                         Record Of The Year             All I Wanna Do                          Sheryl Crow           Bill Bottrell, producer                                                                  True      1\n",
       "                                         Song Of The Year               Streets Of Philadelphia                 Bruce Springsteen     Bruce Springsteen, songwriter (Bruce Springsteen)                                        True      1\n",
       "2019  62nd Annual GRAMMY Awards  (2019)  Song Of The Year               Truth Hurts                             Lizzo                 Steven Cheung, Eric Frederic, Melissa Jefferson & Jesse Saint John, songwriters (Lizzo)  True      1\n",
       "Name: count, Length: 2620, dtype: int64"
      ]
     },
     "execution_count": 23,
     "metadata": {},
     "output_type": "execute_result"
    }
   ],
   "source": [
    "grammy_df['artist'] = grammy_df['artist'].replace({'(Various Artists)': 'Various Artists'})\n",
    "grammy_df.value_counts()"
   ]
  },
  {
   "cell_type": "markdown",
   "metadata": {},
   "source": [
    "We rename the winner column to nominated to better reflect the meaning of the data, taking into account the merge to be done afterwards."
   ]
  },
  {
   "cell_type": "code",
   "execution_count": 24,
   "metadata": {},
   "outputs": [
    {
     "data": {
      "text/html": [
       "<div>\n",
       "<style scoped>\n",
       "    .dataframe tbody tr th:only-of-type {\n",
       "        vertical-align: middle;\n",
       "    }\n",
       "\n",
       "    .dataframe tbody tr th {\n",
       "        vertical-align: top;\n",
       "    }\n",
       "\n",
       "    .dataframe thead th {\n",
       "        text-align: right;\n",
       "    }\n",
       "</style>\n",
       "<table border=\"1\" class=\"dataframe\">\n",
       "  <thead>\n",
       "    <tr style=\"text-align: right;\">\n",
       "      <th></th>\n",
       "      <th>year</th>\n",
       "      <th>title</th>\n",
       "      <th>category</th>\n",
       "      <th>nominee</th>\n",
       "      <th>artist</th>\n",
       "      <th>workers</th>\n",
       "      <th>winner</th>\n",
       "    </tr>\n",
       "  </thead>\n",
       "  <tbody>\n",
       "    <tr>\n",
       "      <th>0</th>\n",
       "      <td>2019</td>\n",
       "      <td>62nd Annual GRAMMY Awards  (2019)</td>\n",
       "      <td>Record Of The Year</td>\n",
       "      <td>Bad Guy</td>\n",
       "      <td>Billie Eilish</td>\n",
       "      <td>Finneas O'Connell, producer; Rob Kinelski &amp; Fi...</td>\n",
       "      <td>True</td>\n",
       "    </tr>\n",
       "    <tr>\n",
       "      <th>1</th>\n",
       "      <td>2019</td>\n",
       "      <td>62nd Annual GRAMMY Awards  (2019)</td>\n",
       "      <td>Record Of The Year</td>\n",
       "      <td>Hey, Ma</td>\n",
       "      <td>Bon Iver</td>\n",
       "      <td>BJ Burton, Brad Cook, Chris Messina &amp; Justin V...</td>\n",
       "      <td>True</td>\n",
       "    </tr>\n",
       "    <tr>\n",
       "      <th>2</th>\n",
       "      <td>2019</td>\n",
       "      <td>62nd Annual GRAMMY Awards  (2019)</td>\n",
       "      <td>Record Of The Year</td>\n",
       "      <td>7 rings</td>\n",
       "      <td>Ariana Grande</td>\n",
       "      <td>Charles Anderson, Tommy Brown, Michael Foster ...</td>\n",
       "      <td>True</td>\n",
       "    </tr>\n",
       "    <tr>\n",
       "      <th>3</th>\n",
       "      <td>2019</td>\n",
       "      <td>62nd Annual GRAMMY Awards  (2019)</td>\n",
       "      <td>Record Of The Year</td>\n",
       "      <td>Hard Place</td>\n",
       "      <td>H.E.R.</td>\n",
       "      <td>Rodney “Darkchild” Jerkins, producer; Joseph H...</td>\n",
       "      <td>True</td>\n",
       "    </tr>\n",
       "    <tr>\n",
       "      <th>4</th>\n",
       "      <td>2019</td>\n",
       "      <td>62nd Annual GRAMMY Awards  (2019)</td>\n",
       "      <td>Record Of The Year</td>\n",
       "      <td>Talk</td>\n",
       "      <td>Khalid</td>\n",
       "      <td>Disclosure &amp; Denis Kosiak, producers; Ingmar C...</td>\n",
       "      <td>True</td>\n",
       "    </tr>\n",
       "  </tbody>\n",
       "</table>\n",
       "</div>"
      ],
      "text/plain": [
       "   year                              title            category     nominee  \\\n",
       "0  2019  62nd Annual GRAMMY Awards  (2019)  Record Of The Year     Bad Guy   \n",
       "1  2019  62nd Annual GRAMMY Awards  (2019)  Record Of The Year     Hey, Ma   \n",
       "2  2019  62nd Annual GRAMMY Awards  (2019)  Record Of The Year     7 rings   \n",
       "3  2019  62nd Annual GRAMMY Awards  (2019)  Record Of The Year  Hard Place   \n",
       "4  2019  62nd Annual GRAMMY Awards  (2019)  Record Of The Year        Talk   \n",
       "\n",
       "          artist                                            workers  winner  \n",
       "0  Billie Eilish  Finneas O'Connell, producer; Rob Kinelski & Fi...    True  \n",
       "1       Bon Iver  BJ Burton, Brad Cook, Chris Messina & Justin V...    True  \n",
       "2  Ariana Grande  Charles Anderson, Tommy Brown, Michael Foster ...    True  \n",
       "3         H.E.R.  Rodney “Darkchild” Jerkins, producer; Joseph H...    True  \n",
       "4         Khalid  Disclosure & Denis Kosiak, producers; Ingmar C...    True  "
      ]
     },
     "execution_count": 24,
     "metadata": {},
     "output_type": "execute_result"
    }
   ],
   "source": [
    "grammy_df = grammy_df.rename({'winner': 'nominated'})\n",
    "grammy_df.head()"
   ]
  },
  {
   "cell_type": "code",
   "execution_count": 25,
   "metadata": {},
   "outputs": [
    {
     "name": "stdout",
     "output_type": "stream",
     "text": [
      "<class 'pandas.core.frame.DataFrame'>\n"
     ]
    }
   ],
   "source": [
    "print(type(grammy_df))"
   ]
  },
  {
   "cell_type": "markdown",
   "metadata": {},
   "source": [
    "We eliminated the workers column since the relevant information was previously treated and is no longer needed for further analysis of the data."
   ]
  },
  {
   "cell_type": "code",
   "execution_count": 27,
   "metadata": {},
   "outputs": [],
   "source": [
    "grammy_df = grammy_df.drop(columns=[\"workers\"], axis=1)"
   ]
  },
  {
   "cell_type": "markdown",
   "metadata": {},
   "source": [
    "We created a new column called decade to group the data by decade, facilitating further temporal analysis."
   ]
  },
  {
   "cell_type": "code",
   "execution_count": 28,
   "metadata": {},
   "outputs": [],
   "source": [
    "grammy_df['decade'] = (grammy_df['year'] // 10) * 10"
   ]
  },
  {
   "cell_type": "code",
   "execution_count": 29,
   "metadata": {},
   "outputs": [
    {
     "data": {
      "text/html": [
       "<div>\n",
       "<style scoped>\n",
       "    .dataframe tbody tr th:only-of-type {\n",
       "        vertical-align: middle;\n",
       "    }\n",
       "\n",
       "    .dataframe tbody tr th {\n",
       "        vertical-align: top;\n",
       "    }\n",
       "\n",
       "    .dataframe thead th {\n",
       "        text-align: right;\n",
       "    }\n",
       "</style>\n",
       "<table border=\"1\" class=\"dataframe\">\n",
       "  <thead>\n",
       "    <tr style=\"text-align: right;\">\n",
       "      <th></th>\n",
       "      <th>year</th>\n",
       "      <th>title</th>\n",
       "      <th>category</th>\n",
       "      <th>nominee</th>\n",
       "      <th>artist</th>\n",
       "      <th>winner</th>\n",
       "      <th>decade</th>\n",
       "    </tr>\n",
       "  </thead>\n",
       "  <tbody>\n",
       "    <tr>\n",
       "      <th>0</th>\n",
       "      <td>2019</td>\n",
       "      <td>62nd Annual GRAMMY Awards  (2019)</td>\n",
       "      <td>Record Of The Year</td>\n",
       "      <td>Bad Guy</td>\n",
       "      <td>Billie Eilish</td>\n",
       "      <td>True</td>\n",
       "      <td>2010</td>\n",
       "    </tr>\n",
       "    <tr>\n",
       "      <th>1</th>\n",
       "      <td>2019</td>\n",
       "      <td>62nd Annual GRAMMY Awards  (2019)</td>\n",
       "      <td>Record Of The Year</td>\n",
       "      <td>Hey, Ma</td>\n",
       "      <td>Bon Iver</td>\n",
       "      <td>True</td>\n",
       "      <td>2010</td>\n",
       "    </tr>\n",
       "    <tr>\n",
       "      <th>2</th>\n",
       "      <td>2019</td>\n",
       "      <td>62nd Annual GRAMMY Awards  (2019)</td>\n",
       "      <td>Record Of The Year</td>\n",
       "      <td>7 rings</td>\n",
       "      <td>Ariana Grande</td>\n",
       "      <td>True</td>\n",
       "      <td>2010</td>\n",
       "    </tr>\n",
       "    <tr>\n",
       "      <th>3</th>\n",
       "      <td>2019</td>\n",
       "      <td>62nd Annual GRAMMY Awards  (2019)</td>\n",
       "      <td>Record Of The Year</td>\n",
       "      <td>Hard Place</td>\n",
       "      <td>H.E.R.</td>\n",
       "      <td>True</td>\n",
       "      <td>2010</td>\n",
       "    </tr>\n",
       "    <tr>\n",
       "      <th>4</th>\n",
       "      <td>2019</td>\n",
       "      <td>62nd Annual GRAMMY Awards  (2019)</td>\n",
       "      <td>Record Of The Year</td>\n",
       "      <td>Talk</td>\n",
       "      <td>Khalid</td>\n",
       "      <td>True</td>\n",
       "      <td>2010</td>\n",
       "    </tr>\n",
       "  </tbody>\n",
       "</table>\n",
       "</div>"
      ],
      "text/plain": [
       "   year                              title            category     nominee  \\\n",
       "0  2019  62nd Annual GRAMMY Awards  (2019)  Record Of The Year     Bad Guy   \n",
       "1  2019  62nd Annual GRAMMY Awards  (2019)  Record Of The Year     Hey, Ma   \n",
       "2  2019  62nd Annual GRAMMY Awards  (2019)  Record Of The Year     7 rings   \n",
       "3  2019  62nd Annual GRAMMY Awards  (2019)  Record Of The Year  Hard Place   \n",
       "4  2019  62nd Annual GRAMMY Awards  (2019)  Record Of The Year        Talk   \n",
       "\n",
       "          artist  winner  decade  \n",
       "0  Billie Eilish    True    2010  \n",
       "1       Bon Iver    True    2010  \n",
       "2  Ariana Grande    True    2010  \n",
       "3         H.E.R.    True    2010  \n",
       "4         Khalid    True    2010  "
      ]
     },
     "execution_count": 29,
     "metadata": {},
     "output_type": "execute_result"
    }
   ],
   "source": [
    "grammy_df.head()"
   ]
  },
  {
   "cell_type": "markdown",
   "metadata": {},
   "source": [
    "## **_Analysis_**"
   ]
  },
  {
   "cell_type": "markdown",
   "metadata": {},
   "source": [
    "##### **_Most Frequent Categories_**\n",
    "This chart shows the 10 most frequent award categories in terms of number of nominations.\n",
    "\n",
    "It can be seen that the more general or popular categories (Song Of The Year, Record Of The Year, Album Of The Year) have more nominations than the more specialized categories (Best Chamber Music Performance, Best Historical Album)."
   ]
  },
  {
   "cell_type": "code",
   "execution_count": 30,
   "metadata": {},
   "outputs": [
    {
     "data": {
      "image/png": "[encoded data removed]",
      "text/plain": [
       "<Figure size 1200x600 with 1 Axes>"
      ]
     },
     "metadata": {},
     "output_type": "display_data"
    }
   ],
   "source": [
    "\n",
    "plt.figure(figsize=(12,6))\n",
    "top_10_categorias = grammy_df['category'].value_counts().head(10)\n",
    "sns.barplot(x=top_10_categorias.values, y=top_10_categorias.index)\n",
    "plt.title('Top 10 Most Frequent Categories')\n",
    "plt.xlabel('Nominations')\n",
    "plt.ylabel('Category')\n",
    "plt.show()"
   ]
  },
  {
   "cell_type": "markdown",
   "metadata": {},
   "source": [
    "##### **_Most Nominated Artists_**\n",
    "\n",
    "The graph below shows the list of the ten artists with the highest number of nominations in the awards analyzed, using a representation of horizontal bars that facilitates the visual comparison between them.\n",
    "- The absolute leader in nominations is the Various Artists category, which generally groups collaborations or compilations of multiple performers. It has a very wide gap from the rest.\n",
    "- Chicago Symphony Orchestra occupies the second position, highlighting the relevance of classical orchestral music in this type of awards.\n",
    "- John Williams, famous composer of movie soundtracks (Star Wars, Harry Potter, Indiana Jones), appears in third place, reflecting his continued impact on the industry."
   ]
  },
  {
   "cell_type": "code",
   "execution_count": null,
   "metadata": {},
   "outputs": [
    {
     "name": "stderr",
     "output_type": "stream",
     "text": [
      "C:\\Users\\natym\\AppData\\Local\\Temp\\ipykernel_16824\\2305084802.py:3: FutureWarning: \n",
      "\n",
      "Passing `palette` without assigning `hue` is deprecated and will be removed in v0.14.0. Assign the `y` variable to `hue` and set `legend=False` for the same effect.\n",
      "\n",
      "  sns.barplot(x=top_artists.values, y=top_artists.index, palette='magma')\n"
     ]
    },
    {
     "data": {
      "image/png": "[encoded data removed]",
      "text/plain": [
       "<Figure size 1200x600 with 1 Axes>"
      ]
     },
     "metadata": {},
     "output_type": "display_data"
    }
   ],
   "source": [
    "top_artists = grammy_df['artist'].value_counts().head(10)\n",
    "plt.figure(figsize=(12,6))\n",
    "sns.barplot(x=top_artists.values, y=top_artists.index, palette='magma')\n",
    "plt.title('Top 10 Most Nominated Artists')\n",
    "plt.xlabel('Nominations Count')\n",
    "plt.ylabel('Artist')\n",
    "plt.show()"
   ]
  },
  {
   "cell_type": "markdown",
   "metadata": {},
   "source": [
    "##### **_Nominations per Decade_**\n",
    "\n",
    "The graph shows the evolution of the number of nominations over the decades, from 1950 to the 2010s.\n",
    "- There is a clear and consistent upward trend in the number of nominations per decade. From 1950, where nominations were barely close to 100, to the 2010s, which exceeded 1200 nominations.\n",
    "- The growth is not linear, but shows an acceleration starting in the 1980s. From this point on, each decade experiences a more pronounced increase than the previous one."
   ]
  },
  {
   "cell_type": "code",
   "execution_count": null,
   "metadata": {},
   "outputs": [
    {
     "name": "stderr",
     "output_type": "stream",
     "text": [
      "C:\\Users\\natym\\AppData\\Local\\Temp\\ipykernel_16824\\1179093928.py:3: FutureWarning: \n",
      "\n",
      "Passing `palette` without assigning `hue` is deprecated and will be removed in v0.14.0. Assign the `x` variable to `hue` and set `legend=False` for the same effect.\n",
      "\n",
      "  sns.countplot(data=grammy_df, x='decade', palette='viridis')\n"
     ]
    },
    {
     "data": {
      "image/png": "[encoded data removed]",
      "text/plain": [
       "<Figure size 1200x600 with 1 Axes>"
      ]
     },
     "metadata": {},
     "output_type": "display_data"
    }
   ],
   "source": [
    "grammy_df['year'] = pd.to_numeric(grammy_df['year'])\n",
    "plt.figure(figsize=(12,6))\n",
    "sns.countplot(data=grammy_df, x='decade', palette='viridis')\n",
    "plt.xticks(rotation=45)\n",
    "plt.title('Nominations per Decade')\n",
    "plt.xlabel('Decade')\n",
    "plt.ylabel('Nominations Count')\n",
    "plt.show()"
   ]
  }
 ],
 "metadata": {
  "kernelspec": {
   "display_name": "venv",
   "language": "python",
   "name": "python3"
  },
  "language_info": {
   "codemirror_mode": {
    "name": "ipython",
    "version": 3
   },
   "file_extension": ".py",
   "mimetype": "text/x-python",
   "name": "python",
   "nbconvert_exporter": "python",
   "pygments_lexer": "ipython3",
   "version": "3.11.9"
  }
 },
 "nbformat": 4,
 "nbformat_minor": 2
}
