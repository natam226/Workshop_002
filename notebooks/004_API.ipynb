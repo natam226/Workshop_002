{
 "cells": [
  {
   "cell_type": "code",
   "execution_count": 2,
   "id": "c0ce227a",
   "metadata": {},
   "outputs": [],
   "source": [
    "import pandas as pd\n",
    "import requests\n",
    "import time\n",
    "import random\n",
    "import html\n",
    "import logging\n",
    "from tqdm import tqdm\n"
   ]
  },
  {
   "cell_type": "code",
   "execution_count": 3,
   "id": "bbf2ca21",
   "metadata": {},
   "outputs": [
    {
     "name": "stdout",
     "output_type": "stream",
     "text": [
      "✅ Total artistas únicos: 31437\n",
      "🚀 Consultando Wikidata...\n"
     ]
    },
    {
     "name": "stderr",
     "output_type": "stream",
     "text": [
      "🔎 Batches SPARQL: 31440it [12:15, 42.77it/s]                           \n"
     ]
    }
   ],
   "source": [
    "# =======================\n",
    "# 1. CARGAR Y LIMPIAR CSV\n",
    "# =======================\n",
    "# Función para limpiar nombres\n",
    "import pandas as pd\n",
    "import re\n",
    "\n",
    "def limpiar_nombre(nombre):\n",
    "    if pd.isna(nombre) or not nombre.strip():\n",
    "        return None\n",
    "    # Eliminar caracteres problemáticos para SPARQL\n",
    "    nombre = nombre.replace(\"\\\\\", \"\")   # Quitar backslashes\n",
    "    nombre = nombre.replace('\"', '')    # Quitar comillas dobles\n",
    "    nombre = nombre.replace(\"'\", \"\")    # Quitar comillas simples\n",
    "    nombre = nombre.replace(\",\", \"\")    # Quitar comas\n",
    "    nombre = nombre.replace(\"/\", \" \")   # Evitar errores con `/`\n",
    "    nombre = nombre.replace(\"&\", \"and\") # Evitar ambigüedad\n",
    "    nombre = nombre.strip()\n",
    "    return nombre\n",
    "\n",
    "# Cargar y limpiar\n",
    "df = pd.read_csv(\"../data/artists.csv\", header=None, names=[\"raw\"])\n",
    "nombres_limpios = [limpiar_nombre(nombre) for nombre in df[\"raw\"]]\n",
    "artistas_unicos = sorted(set([nombre for nombre in nombres_limpios if nombre]))\n",
    "\n",
    "print(f\"✅ Total artistas únicos: {len(artistas_unicos)}\")\n",
    "\n",
    "\n",
    "# =======================\n",
    "# 2. CONSULTA SPARQL CON TODOS LOS CAMPOS\n",
    "# =======================\n",
    "WIKIDATA_ENDPOINT = \"https://query.wikidata.org/sparql\"\n",
    "HEADERS = {\n",
    "    \"Accept\": \"application/sparql-results+json\",\n",
    "    \"User-Agent\": \"Workshop/1.0 (ejemplo@gmail.com)\"  # <-- ¡Pon tu info real aquí!\n",
    "}\n",
    "\n",
    "\n",
    "def construir_query_sparql(artistas):\n",
    "    values = \"\\n\".join([f'\"{nombre}\"@en' for nombre in artistas])\n",
    "    query = f\"\"\"\n",
    "    SELECT ?artistLabel ?death ?countryLabel ?awardLabel ?genderLabel WHERE {{\n",
    "      VALUES ?name {{ {values} }}\n",
    "      ?artist rdfs:label ?name.\n",
    "      ?artist wdt:P166 ?award.\n",
    "      ?award rdfs:label ?awardLabel.\n",
    "      OPTIONAL {{ ?artist wdt:P27 ?country. }}\n",
    "      OPTIONAL {{ ?artist wdt:P570 ?death. }}\n",
    "      OPTIONAL {{ ?artist wdt:P21 ?gender. }}  # Género con P21\n",
    "      SERVICE wikibase:label {{ bd:serviceParam wikibase:language \"[AUTO_LANGUAGE],en\". }}\n",
    "    }}\n",
    "    \"\"\"\n",
    "    return query\n",
    "\n",
    "def obtener_datos_wikidata(artistas_batch):\n",
    "    query = construir_query_sparql(artistas_batch)\n",
    "    try:\n",
    "        response = requests.post(WIKIDATA_ENDPOINT, data={\"query\": query}, headers=HEADERS)\n",
    "        response.raise_for_status()\n",
    "        return response.json()\n",
    "    except requests.exceptions.RequestException as e:\n",
    "        print(\"❌ Error en SPARQL:\", e)\n",
    "        return None\n",
    "\n",
    "# =======================\n",
    "# 3. CONSULTA ROBUSTA\n",
    "# =======================\n",
    "print(\"🚀 Consultando Wikidata...\")\n",
    "\n",
    "MAX_QUERY_SIZE = 60000\n",
    "results = []\n",
    "i = 0\n",
    "\n",
    "with tqdm(total=len(artistas_unicos), desc=\"🔎 Batches SPARQL\") as pbar:\n",
    "    while i < len(artistas_unicos):\n",
    "        batch_size = 80\n",
    "        batch_success = False\n",
    "\n",
    "        while batch_size > 0 and not batch_success:\n",
    "            batch = artistas_unicos[i:i+batch_size]\n",
    "            query = construir_query_sparql(batch)\n",
    "            if len(query.encode(\"utf-8\")) > MAX_QUERY_SIZE:\n",
    "                batch_size -= 5\n",
    "                continue\n",
    "\n",
    "            data = obtener_datos_wikidata(batch)\n",
    "            if data:\n",
    "                for row in data[\"results\"][\"bindings\"]:\n",
    "                    results.append({\n",
    "                        \"artist\": row.get(\"artistLabel\", {}).get(\"value\", \"\"),\n",
    "                        \"death\": row.get(\"death\", {}).get(\"value\", \"\"),\n",
    "                        \"country\": row.get(\"countryLabel\", {}).get(\"value\", \"\"),\n",
    "                        \"award\": row.get(\"awardLabel\", {}).get(\"value\", \"No awards\"),\n",
    "                        \"gender\": row.get(\"genderLabel\", {}).get(\"value\", \"Unknown\")  # Valor por defecto si no hay género\n",
    "                    })\n",
    "                batch_success = True\n",
    "                i += batch_size\n",
    "                pbar.update(batch_size)\n",
    "                time.sleep(0.8)\n",
    "            else:\n",
    "                batch_size = batch_size // 2\n",
    "\n",
    "        if not batch_success:\n",
    "            print(f\"⚠️  Saltando artista en índice {i}: {artistas_unicos[i]}\")\n",
    "            i += 1\n",
    "            pbar.update(1)\n",
    "\n",
    "# =======================\n",
    "# 4. GUARDAR RESULTADOS\n",
    "# =======================\n",
    "columnas_ordenadas = [\"artist\", \"country\", \"award\", \"death\", \"gender\"]\n",
    "df_result = pd.DataFrame(results, columns=columnas_ordenadas)"
   ]
  },
  {
   "cell_type": "code",
   "execution_count": 4,
   "id": "36eacac1",
   "metadata": {},
   "outputs": [
    {
     "name": "stdout",
     "output_type": "stream",
     "text": [
      "✅ Archivo 'wikidata_artists_part1.csv' creado correctamente.\n",
      "✅ Archivo 'wikidata_artists_part2.csv' creado correctamente.\n"
     ]
    }
   ],
   "source": [
    "# Calcular el punto de división (por la mitad en este caso)\n",
    "halfway = len(df_result) // 2\n",
    "\n",
    "# Guardar la primera parte del DataFrame\n",
    "df_result.iloc[:halfway].to_csv(\"../data/wikidata_artists_part1.csv\", index=False)\n",
    "print(\"✅ Archivo 'wikidata_artists_part1.csv' creado correctamente.\")\n",
    "\n",
    "# Guardar la segunda parte del DataFrame\n",
    "df_result.iloc[halfway:].to_csv(\"../data/wikidata_artists_part2.csv\", index=False)\n",
    "print(\"✅ Archivo 'wikidata_artists_part2.csv' creado correctamente.\")"
   ]
  }
 ],
 "metadata": {
  "kernelspec": {
   "display_name": "venv",
   "language": "python",
   "name": "python3"
  },
  "language_info": {
   "codemirror_mode": {
    "name": "ipython",
    "version": 3
   },
   "file_extension": ".py",
   "mimetype": "text/x-python",
   "name": "python",
   "nbconvert_exporter": "python",
   "pygments_lexer": "ipython3",
   "version": "3.11.9"
  }
 },
 "nbformat": 4,
 "nbformat_minor": 5
}
