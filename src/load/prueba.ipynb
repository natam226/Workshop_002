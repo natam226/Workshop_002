{
 "cells": [
  {
   "cell_type": "code",
   "execution_count": null,
   "id": "2794ec96",
   "metadata": {},
   "outputs": [
    {
     "ename": "ModuleNotFoundError",
     "evalue": "No module named 'google'",
     "output_type": "error",
     "traceback": [
      "\u001b[31m---------------------------------------------------------------------------\u001b[39m",
      "\u001b[31mModuleNotFoundError\u001b[39m                       Traceback (most recent call last)",
      "\u001b[36mCell\u001b[39m\u001b[36m \u001b[39m\u001b[32mIn[1]\u001b[39m\u001b[32m, line 2\u001b[39m\n\u001b[32m      1\u001b[39m \u001b[38;5;28;01mimport\u001b[39;00m\u001b[38;5;250m \u001b[39m\u001b[34;01mos\u001b[39;00m\n\u001b[32m----> \u001b[39m\u001b[32m2\u001b[39m \u001b[38;5;28;01mfrom\u001b[39;00m\u001b[38;5;250m \u001b[39m\u001b[34;01mstore\u001b[39;00m\u001b[38;5;250m \u001b[39m\u001b[38;5;28;01mimport\u001b[39;00m upload_file_to_drive  \u001b[38;5;66;03m# Asegúrate de que el nombre del archivo sea correcto\u001b[39;00m\n\u001b[32m      4\u001b[39m \u001b[38;5;66;03m# Ruta al archivo de prueba\u001b[39;00m\n\u001b[32m      5\u001b[39m TEST_CSV_PATH = \u001b[33m\"\u001b[39m\u001b[33m/tmp/test_airflow_upload.csv\u001b[39m\u001b[33m\"\u001b[39m\n",
      "\u001b[36mFile \u001b[39m\u001b[32mc:\\Users\\natym\\Desktop\\Workshop_002\\src\\load\\store.py:4\u001b[39m\n\u001b[32m      2\u001b[39m \u001b[38;5;28;01mimport\u001b[39;00m\u001b[38;5;250m \u001b[39m\u001b[34;01mlogging\u001b[39;00m\n\u001b[32m      3\u001b[39m \u001b[38;5;28;01mimport\u001b[39;00m\u001b[38;5;250m \u001b[39m\u001b[34;01mpickle\u001b[39;00m\n\u001b[32m----> \u001b[39m\u001b[32m4\u001b[39m \u001b[38;5;28;01mfrom\u001b[39;00m\u001b[38;5;250m \u001b[39m\u001b[34;01mgoogle\u001b[39;00m\u001b[34;01m.\u001b[39;00m\u001b[34;01moauth2\u001b[39;00m\u001b[34;01m.\u001b[39;00m\u001b[34;01mcredentials\u001b[39;00m\u001b[38;5;250m \u001b[39m\u001b[38;5;28;01mimport\u001b[39;00m Credentials\n\u001b[32m      5\u001b[39m \u001b[38;5;28;01mfrom\u001b[39;00m\u001b[38;5;250m \u001b[39m\u001b[34;01mgoogleapiclient\u001b[39;00m\u001b[34;01m.\u001b[39;00m\u001b[34;01mdiscovery\u001b[39;00m\u001b[38;5;250m \u001b[39m\u001b[38;5;28;01mimport\u001b[39;00m build\n\u001b[32m      6\u001b[39m \u001b[38;5;28;01mfrom\u001b[39;00m\u001b[38;5;250m \u001b[39m\u001b[34;01mgoogleapiclient\u001b[39;00m\u001b[34;01m.\u001b[39;00m\u001b[34;01mhttp\u001b[39;00m\u001b[38;5;250m \u001b[39m\u001b[38;5;28;01mimport\u001b[39;00m MediaFileUpload\n",
      "\u001b[31mModuleNotFoundError\u001b[39m: No module named 'google'"
     ]
    }
   ],
   "source": [
    "import os\n",
    "from store import upload_file_to_drive  # Asegúrate de que el nombre del archivo sea correcto\n",
    "\n",
    "# Ruta al archivo de prueba\n",
    "TEST_CSV_PATH = \"lala.csv\"\n",
    "\n",
    "def create_test_csv(path):\n",
    "    with open(path, \"w\") as f:\n",
    "        f.write(\"nombre,edad\\n\")\n",
    "        f.write(\"Carlos,34\\n\")\n",
    "        f.write(\"Lucía,28\\n\")\n",
    "    print(f\"📝 Archivo de prueba creado en: {path}\")\n",
    "\n",
    "if __name__ == \"__main__\":\n",
    "    create_test_csv(TEST_CSV_PATH)\n",
    "    \n",
    "    try:\n",
    "        upload_file_to_drive(filepath=TEST_CSV_PATH)\n",
    "        print(\"✅ Archivo subido correctamente.\")\n",
    "    except Exception as e:\n",
    "        print(f\"❌ Ocurrió un error durante la subida: {e}\")"
   ]
  }
 ],
 "metadata": {
  "kernelspec": {
   "display_name": "venv",
   "language": "python",
   "name": "python3"
  },
  "language_info": {
   "codemirror_mode": {
    "name": "ipython",
    "version": 3
   },
   "file_extension": ".py",
   "mimetype": "text/x-python",
   "name": "python",
   "nbconvert_exporter": "python",
   "pygments_lexer": "ipython3",
   "version": "3.11.9"
  }
 },
 "nbformat": 4,
 "nbformat_minor": 5
}
